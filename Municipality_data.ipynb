{
 "cells": [
  {
   "cell_type": "markdown",
   "metadata": {},
   "source": [
    "In this notebook we use publicly available health care data to illustrate the use of some python libraries. We will plot health care expenditure per municipality and how health care varies with age. In the process you will see how libraries like pandas and matplotlib work.\n",
    "\n"
   ]
  },
  {
   "cell_type": "markdown",
   "metadata": {},
   "source": [
    "\n",
    "# Health care expenditures per municipality\n",
    "\n"
   ]
  },
  {
   "cell_type": "markdown",
   "metadata": {},
   "source": [
    "We start with health care data on the level of municipalities. We will plot how health care expenditure varies with location.\n",
    "\n",
    "Some institutional background:\n",
    "\n",
    "-   in the Netherlands health insurance is mandatory\n",
    "-   people aged 18 or older face a deductible of 365 euros in 2014; no deductible for people below 18\n",
    "-   the deductible applies to a number of cost categories in the \"basic packages\"; see below\n",
    "-   people can &#x2013;voluntarily&#x2013; increase their deductible with 100, 200, 300, 400 or 500 euro; but our data has no information on this\n",
    "\n"
   ]
  },
  {
   "cell_type": "markdown",
   "metadata": {},
   "source": [
    "\n",
    "## loading the data\n",
    "\n"
   ]
  },
  {
   "cell_type": "markdown",
   "metadata": {},
   "source": [
    "The following code block loads the data. We use data from [Vektis](http://www.vektis.nl/index.php/vektis-open-data). We import the data, which is a 'csv' file with \";\" as separator between columns. We also import the pandas library.\n",
    "\n",
    "Then we inspect the first ten rows of our data set.\n",
    "\n"
   ]
  },
  {
   "cell_type": "code",
   "execution_count": 1,
   "metadata": {
    "collapsed": false
   },
   "outputs": [],
   "source": [
    "# First lets clear all previous python imports and variables by resetting the python kernel.\n",
    "%reset -f\n",
    "\n",
    "\n",
    "import pandas as pd\n",
    "\n",
    "df_gemeente = pd.read_csv('Vektis_Open_Databestand_Zorgverzekeringswet_2014_-_gemeente.csv', sep = ';')\n",
    "\n",
    "df_gemeente.head(10)\n",
    "\n",
    "%matplotlib inline"
   ]
  },
  {
   "cell_type": "markdown",
   "metadata": {},
   "source": [
    "We are going to be interested in total health care costs under the deductible. Hence, we specify the categories that fall under the deductible in the Netherlands in 2014.\n",
    "Further, we want to do this analysis in English. So we relabel the relevant column names into English.\n",
    "\n",
    "We specify a list of columns (cost categories) across which we want to add costs. As the costs are total costs (not costs per head) we can indeed add these numbers. We leave out mental health care as it features its own financial incentives.\n",
    "\n",
    "We specify the name of a new variable `health_expenditure_under_deductible` which is calculated on the list of columns specified and then the function that needs to be applied &#x2013; `sum` in this case. Finally, we specify that the function needs to be applied row-wise: `axis=1`.\n",
    "\n",
    "Then we give a dictionary with \"old\" variable names (in Dutch) and the \"new\" names in English for the variables where we want to use the English names.\n",
    "\n"
   ]
  },
  {
   "cell_type": "code",
   "execution_count": 2,
   "metadata": {
    "collapsed": false
   },
   "outputs": [
    {
     "data": {
      "text/plain": [
       "sex                                     object\n",
       "age                                     object\n",
       "MUNICIPALITY                            object\n",
       "number_citizens                          int64\n",
       "AANTAL_VERZEKERDEJAREN                 float64\n",
       "hospital_care                          float64\n",
       "pharmaceuticals                        float64\n",
       "mental_care                            float64\n",
       "GP_capitation                          float64\n",
       "GP_fee_for_service                     float64\n",
       "GP_other                               float64\n",
       "KOSTEN_HULPMIDDELEN                    float64\n",
       "dental care                            float64\n",
       "physiotherapy                          float64\n",
       "KOSTEN_PARAMEDISCHE_ZORG_OVERIG        float64\n",
       "KOSTEN_ZIEKENVERVOER_ZITTEND           float64\n",
       "KOSTEN_ZIEKENVERVOER_LIGGEND           float64\n",
       "maternity_care                         float64\n",
       "obstetrics                             float64\n",
       "KOSTEN_GENERALISTISCHE_BASIS_GGZ       float64\n",
       "KOSTEN_GRENSOVERSCHRIJDENDE_ZORG       float64\n",
       "KOSTEN_EERSTELIJNS_ONDERSTEUNING       float64\n",
       "KOSTEN_GERIATRISCHE_REVALIDATIEZORG    float64\n",
       "KOSTEN_OVERIG                          float64\n",
       "health_expenditure_under_deductible    float64\n",
       "dtype: object"
      ]
     },
     "execution_count": 2,
     "metadata": {},
     "output_type": "execute_result"
    }
   ],
   "source": [
    "cost_categories_under_deductible = ['KOSTEN_MEDISCH_SPECIALISTISCHE_ZORG', 'KOSTEN_MONDZORG', 'KOSTEN_FARMACIE', 'KOSTEN_HULPMIDDELEN', 'KOSTEN_PARAMEDISCHE_ZORG_FYSIOTHERAPIE', 'KOSTEN_PARAMEDISCHE_ZORG_OVERIG', 'KOSTEN_ZIEKENVERVOER_ZITTEND', 'KOSTEN_ZIEKENVERVOER_LIGGEND', 'KOSTEN_GRENSOVERSCHRIJDENDE_ZORG', 'KOSTEN_GERIATRISCHE_REVALIDATIEZORG', 'KOSTEN_OVERIG']\n",
    "df_gemeente['health_expenditure_under_deductible'] = df_gemeente[cost_categories_under_deductible].sum(axis=1)\n",
    "\n",
    "df_gemeente = df_gemeente.rename_axis({\n",
    "'GESLACHT':'sex',\n",
    "'LEEFTIJDSKLASSE':'age',\n",
    "'GEMEENTENAAM':'MUNICIPALITY',\n",
    "'AANTAL_BSN':'number_citizens',\n",
    "'KOSTEN_MEDISCH_SPECIALISTISCHE_ZORG':'hospital_care',\n",
    "'KOSTEN_FARMACIE':'pharmaceuticals',\n",
    "'KOSTEN_TWEEDELIJNS_GGZ':'mental_care',\n",
    "'KOSTEN_HUISARTS_INSCHRIJFTARIEF':'GP_capitation',\n",
    "'KOSTEN_HUISARTS_CONSULT':'GP_fee_for_service',\n",
    "'KOSTEN_HUISARTS_OVERIG':'GP_other',\n",
    "'KOSTEN_MONDZORG':'dental care',\n",
    "'KOSTEN_PARAMEDISCHE_ZORG_FYSIOTHERAPIE':'physiotherapy',\n",
    "'KOSTEN_KRAAMZORG':'maternity_care',\n",
    "'KOSTEN_VERLOSKUNDIGE_ZORG':'obstetrics'\n",
    "}, axis='columns')\n",
    "\n",
    "df_gemeente.dtypes"
   ]
  },
  {
   "cell_type": "markdown",
   "metadata": {},
   "source": [
    "We drop the columns that we no longer need.\n",
    "\n"
   ]
  },
  {
   "cell_type": "code",
   "execution_count": 3,
   "metadata": {
    "collapsed": false
   },
   "outputs": [
    {
     "data": {
      "text/plain": [
       "Index(['sex', 'age', 'MUNICIPALITY', 'number_citizens', 'hospital_care',\n",
       "       'pharmaceuticals', 'mental_care', 'GP_capitation', 'GP_fee_for_service',\n",
       "       'GP_other', 'dental care', 'physiotherapy', 'maternity_care',\n",
       "       'obstetrics', 'health_expenditure_under_deductible'],\n",
       "      dtype='object')"
      ]
     },
     "execution_count": 3,
     "metadata": {},
     "output_type": "execute_result"
    }
   ],
   "source": [
    "df_gemeente.drop(['AANTAL_VERZEKERDEJAREN',\n",
    "'KOSTEN_HULPMIDDELEN',\n",
    "'KOSTEN_PARAMEDISCHE_ZORG_OVERIG',\n",
    "'KOSTEN_ZIEKENVERVOER_ZITTEND',\n",
    "'KOSTEN_ZIEKENVERVOER_LIGGEND',\n",
    "'KOSTEN_GRENSOVERSCHRIJDENDE_ZORG',\n",
    "'KOSTEN_GERIATRISCHE_REVALIDATIEZORG',\n",
    "'KOSTEN_OVERIG',\n",
    "'KOSTEN_GENERALISTISCHE_BASIS_GGZ',\n",
    "'KOSTEN_EERSTELIJNS_ONDERSTEUNING'],inplace=True,axis=1)\n",
    "df_gemeente.columns"
   ]
  },
  {
   "cell_type": "markdown",
   "metadata": {},
   "source": [
    "Let's look again at the first couple of lines of our data set. The `head` method presents the first 5 line as default.\n",
    "\n"
   ]
  },
  {
   "cell_type": "code",
   "execution_count": 4,
   "metadata": {
    "collapsed": false
   },
   "outputs": [
    {
     "data": {
      "text/html": [
       "<div>\n",
       "<table border=\"1\" class=\"dataframe\">\n",
       "  <thead>\n",
       "    <tr style=\"text-align: right;\">\n",
       "      <th></th>\n",
       "      <th>sex</th>\n",
       "      <th>age</th>\n",
       "      <th>MUNICIPALITY</th>\n",
       "      <th>number_citizens</th>\n",
       "      <th>hospital_care</th>\n",
       "      <th>pharmaceuticals</th>\n",
       "      <th>mental_care</th>\n",
       "      <th>GP_capitation</th>\n",
       "      <th>GP_fee_for_service</th>\n",
       "      <th>GP_other</th>\n",
       "      <th>dental care</th>\n",
       "      <th>physiotherapy</th>\n",
       "      <th>maternity_care</th>\n",
       "      <th>obstetrics</th>\n",
       "      <th>health_expenditure_under_deductible</th>\n",
       "    </tr>\n",
       "  </thead>\n",
       "  <tbody>\n",
       "    <tr>\n",
       "      <th>0</th>\n",
       "      <td>NaN</td>\n",
       "      <td>NaN</td>\n",
       "      <td>NaN</td>\n",
       "      <td>298383</td>\n",
       "      <td>48661669.94</td>\n",
       "      <td>9219422.33</td>\n",
       "      <td>7475481.90</td>\n",
       "      <td>4092492.35</td>\n",
       "      <td>1388439.07</td>\n",
       "      <td>3041904.41</td>\n",
       "      <td>1249229.61</td>\n",
       "      <td>418648.30</td>\n",
       "      <td>1286545.5</td>\n",
       "      <td>1072906.37</td>\n",
       "      <td>86677435.03</td>\n",
       "    </tr>\n",
       "    <tr>\n",
       "      <th>1</th>\n",
       "      <td>M</td>\n",
       "      <td>0 t/m  4 jaar</td>\n",
       "      <td>AA EN HUNZE</td>\n",
       "      <td>507</td>\n",
       "      <td>473370.77</td>\n",
       "      <td>43305.49</td>\n",
       "      <td>14056.81</td>\n",
       "      <td>26239.56</td>\n",
       "      <td>12829.29</td>\n",
       "      <td>36034.65</td>\n",
       "      <td>9311.14</td>\n",
       "      <td>15968.80</td>\n",
       "      <td>0.0</td>\n",
       "      <td>0.00</td>\n",
       "      <td>576750.31</td>\n",
       "    </tr>\n",
       "    <tr>\n",
       "      <th>2</th>\n",
       "      <td>M</td>\n",
       "      <td>0 t/m  4 jaar</td>\n",
       "      <td>AALBURG</td>\n",
       "      <td>428</td>\n",
       "      <td>340442.37</td>\n",
       "      <td>23395.86</td>\n",
       "      <td>5555.83</td>\n",
       "      <td>21673.15</td>\n",
       "      <td>9417.98</td>\n",
       "      <td>20159.19</td>\n",
       "      <td>7213.81</td>\n",
       "      <td>6135.05</td>\n",
       "      <td>0.0</td>\n",
       "      <td>0.00</td>\n",
       "      <td>406856.55</td>\n",
       "    </tr>\n",
       "    <tr>\n",
       "      <th>3</th>\n",
       "      <td>M</td>\n",
       "      <td>0 t/m  4 jaar</td>\n",
       "      <td>AALSMEER</td>\n",
       "      <td>876</td>\n",
       "      <td>932841.57</td>\n",
       "      <td>54597.52</td>\n",
       "      <td>34355.66</td>\n",
       "      <td>43971.27</td>\n",
       "      <td>22413.37</td>\n",
       "      <td>61629.32</td>\n",
       "      <td>19042.00</td>\n",
       "      <td>20086.43</td>\n",
       "      <td>0.0</td>\n",
       "      <td>0.00</td>\n",
       "      <td>1093297.37</td>\n",
       "    </tr>\n",
       "    <tr>\n",
       "      <th>4</th>\n",
       "      <td>M</td>\n",
       "      <td>0 t/m  4 jaar</td>\n",
       "      <td>AALTEN</td>\n",
       "      <td>667</td>\n",
       "      <td>515879.78</td>\n",
       "      <td>43516.71</td>\n",
       "      <td>2404.19</td>\n",
       "      <td>33749.10</td>\n",
       "      <td>18472.64</td>\n",
       "      <td>46720.61</td>\n",
       "      <td>12909.41</td>\n",
       "      <td>20762.75</td>\n",
       "      <td>0.0</td>\n",
       "      <td>0.00</td>\n",
       "      <td>652523.86</td>\n",
       "    </tr>\n",
       "  </tbody>\n",
       "</table>\n",
       "</div>"
      ],
      "text/plain": [
       "   sex             age MUNICIPALITY  number_citizens  hospital_care  \\\n",
       "0  NaN             NaN          NaN           298383    48661669.94   \n",
       "1    M   0 t/m  4 jaar  AA EN HUNZE              507      473370.77   \n",
       "2    M   0 t/m  4 jaar      AALBURG              428      340442.37   \n",
       "3    M   0 t/m  4 jaar     AALSMEER              876      932841.57   \n",
       "4    M   0 t/m  4 jaar       AALTEN              667      515879.78   \n",
       "\n",
       "   pharmaceuticals  mental_care  GP_capitation  GP_fee_for_service  \\\n",
       "0       9219422.33   7475481.90     4092492.35          1388439.07   \n",
       "1         43305.49     14056.81       26239.56            12829.29   \n",
       "2         23395.86      5555.83       21673.15             9417.98   \n",
       "3         54597.52     34355.66       43971.27            22413.37   \n",
       "4         43516.71      2404.19       33749.10            18472.64   \n",
       "\n",
       "     GP_other  dental care  physiotherapy  maternity_care  obstetrics  \\\n",
       "0  3041904.41   1249229.61      418648.30       1286545.5  1072906.37   \n",
       "1    36034.65      9311.14       15968.80             0.0        0.00   \n",
       "2    20159.19      7213.81        6135.05             0.0        0.00   \n",
       "3    61629.32     19042.00       20086.43             0.0        0.00   \n",
       "4    46720.61     12909.41       20762.75             0.0        0.00   \n",
       "\n",
       "   health_expenditure_under_deductible  \n",
       "0                          86677435.03  \n",
       "1                            576750.31  \n",
       "2                            406856.55  \n",
       "3                           1093297.37  \n",
       "4                            652523.86  "
      ]
     },
     "execution_count": 4,
     "metadata": {},
     "output_type": "execute_result"
    }
   ],
   "source": [
    "df_gemeente.head()"
   ]
  },
  {
   "cell_type": "markdown",
   "metadata": {},
   "source": [
    "We are not interested in the first line, so we drop it. Indeed, our data set now starts with the first municipality 'AA EN HUNZE'.\n",
    "\n"
   ]
  },
  {
   "cell_type": "code",
   "execution_count": 5,
   "metadata": {
    "collapsed": false
   },
   "outputs": [
    {
     "data": {
      "text/html": [
       "<div>\n",
       "<table border=\"1\" class=\"dataframe\">\n",
       "  <thead>\n",
       "    <tr style=\"text-align: right;\">\n",
       "      <th></th>\n",
       "      <th>sex</th>\n",
       "      <th>age</th>\n",
       "      <th>MUNICIPALITY</th>\n",
       "      <th>number_citizens</th>\n",
       "      <th>hospital_care</th>\n",
       "      <th>pharmaceuticals</th>\n",
       "      <th>mental_care</th>\n",
       "      <th>GP_capitation</th>\n",
       "      <th>GP_fee_for_service</th>\n",
       "      <th>GP_other</th>\n",
       "      <th>dental care</th>\n",
       "      <th>physiotherapy</th>\n",
       "      <th>maternity_care</th>\n",
       "      <th>obstetrics</th>\n",
       "      <th>health_expenditure_under_deductible</th>\n",
       "    </tr>\n",
       "  </thead>\n",
       "  <tbody>\n",
       "    <tr>\n",
       "      <th>1</th>\n",
       "      <td>M</td>\n",
       "      <td>0 t/m  4 jaar</td>\n",
       "      <td>AA EN HUNZE</td>\n",
       "      <td>507</td>\n",
       "      <td>473370.77</td>\n",
       "      <td>43305.49</td>\n",
       "      <td>14056.81</td>\n",
       "      <td>26239.56</td>\n",
       "      <td>12829.29</td>\n",
       "      <td>36034.65</td>\n",
       "      <td>9311.14</td>\n",
       "      <td>15968.80</td>\n",
       "      <td>0.0</td>\n",
       "      <td>0.0</td>\n",
       "      <td>576750.31</td>\n",
       "    </tr>\n",
       "    <tr>\n",
       "      <th>2</th>\n",
       "      <td>M</td>\n",
       "      <td>0 t/m  4 jaar</td>\n",
       "      <td>AALBURG</td>\n",
       "      <td>428</td>\n",
       "      <td>340442.37</td>\n",
       "      <td>23395.86</td>\n",
       "      <td>5555.83</td>\n",
       "      <td>21673.15</td>\n",
       "      <td>9417.98</td>\n",
       "      <td>20159.19</td>\n",
       "      <td>7213.81</td>\n",
       "      <td>6135.05</td>\n",
       "      <td>0.0</td>\n",
       "      <td>0.0</td>\n",
       "      <td>406856.55</td>\n",
       "    </tr>\n",
       "    <tr>\n",
       "      <th>3</th>\n",
       "      <td>M</td>\n",
       "      <td>0 t/m  4 jaar</td>\n",
       "      <td>AALSMEER</td>\n",
       "      <td>876</td>\n",
       "      <td>932841.57</td>\n",
       "      <td>54597.52</td>\n",
       "      <td>34355.66</td>\n",
       "      <td>43971.27</td>\n",
       "      <td>22413.37</td>\n",
       "      <td>61629.32</td>\n",
       "      <td>19042.00</td>\n",
       "      <td>20086.43</td>\n",
       "      <td>0.0</td>\n",
       "      <td>0.0</td>\n",
       "      <td>1093297.37</td>\n",
       "    </tr>\n",
       "    <tr>\n",
       "      <th>4</th>\n",
       "      <td>M</td>\n",
       "      <td>0 t/m  4 jaar</td>\n",
       "      <td>AALTEN</td>\n",
       "      <td>667</td>\n",
       "      <td>515879.78</td>\n",
       "      <td>43516.71</td>\n",
       "      <td>2404.19</td>\n",
       "      <td>33749.10</td>\n",
       "      <td>18472.64</td>\n",
       "      <td>46720.61</td>\n",
       "      <td>12909.41</td>\n",
       "      <td>20762.75</td>\n",
       "      <td>0.0</td>\n",
       "      <td>0.0</td>\n",
       "      <td>652523.86</td>\n",
       "    </tr>\n",
       "    <tr>\n",
       "      <th>5</th>\n",
       "      <td>M</td>\n",
       "      <td>0 t/m  4 jaar</td>\n",
       "      <td>ACHTKARSPELEN</td>\n",
       "      <td>810</td>\n",
       "      <td>766456.80</td>\n",
       "      <td>88084.16</td>\n",
       "      <td>6681.81</td>\n",
       "      <td>41477.79</td>\n",
       "      <td>19157.34</td>\n",
       "      <td>53633.01</td>\n",
       "      <td>16695.10</td>\n",
       "      <td>23423.96</td>\n",
       "      <td>0.0</td>\n",
       "      <td>0.0</td>\n",
       "      <td>954494.16</td>\n",
       "    </tr>\n",
       "  </tbody>\n",
       "</table>\n",
       "</div>"
      ],
      "text/plain": [
       "  sex             age   MUNICIPALITY  number_citizens  hospital_care  \\\n",
       "1   M   0 t/m  4 jaar    AA EN HUNZE              507      473370.77   \n",
       "2   M   0 t/m  4 jaar        AALBURG              428      340442.37   \n",
       "3   M   0 t/m  4 jaar       AALSMEER              876      932841.57   \n",
       "4   M   0 t/m  4 jaar         AALTEN              667      515879.78   \n",
       "5   M   0 t/m  4 jaar  ACHTKARSPELEN              810      766456.80   \n",
       "\n",
       "   pharmaceuticals  mental_care  GP_capitation  GP_fee_for_service  GP_other  \\\n",
       "1         43305.49     14056.81       26239.56            12829.29  36034.65   \n",
       "2         23395.86      5555.83       21673.15             9417.98  20159.19   \n",
       "3         54597.52     34355.66       43971.27            22413.37  61629.32   \n",
       "4         43516.71      2404.19       33749.10            18472.64  46720.61   \n",
       "5         88084.16      6681.81       41477.79            19157.34  53633.01   \n",
       "\n",
       "   dental care  physiotherapy  maternity_care  obstetrics  \\\n",
       "1      9311.14       15968.80             0.0         0.0   \n",
       "2      7213.81        6135.05             0.0         0.0   \n",
       "3     19042.00       20086.43             0.0         0.0   \n",
       "4     12909.41       20762.75             0.0         0.0   \n",
       "5     16695.10       23423.96             0.0         0.0   \n",
       "\n",
       "   health_expenditure_under_deductible  \n",
       "1                            576750.31  \n",
       "2                            406856.55  \n",
       "3                           1093297.37  \n",
       "4                            652523.86  \n",
       "5                            954494.16  "
      ]
     },
     "execution_count": 5,
     "metadata": {},
     "output_type": "execute_result"
    }
   ],
   "source": [
    "df_gemeente.drop(df_gemeente.index[[0]], inplace=True)\n",
    "df_gemeente.head()"
   ]
  },
  {
   "cell_type": "markdown",
   "metadata": {},
   "source": [
    "  sex             age   MUNICIPALITY  number\\_citizens  hospital\\_care  \\\\\n",
    "1   M   0 t/m  4 jaar    AA EN HUNZE              507      473370.77   \n",
    "2   M   0 t/m  4 jaar        AALBURG              428      340442.37   \n",
    "3   M   0 t/m  4 jaar       AALSMEER              876      932841.57   \n",
    "4   M   0 t/m  4 jaar         AALTEN              667      515879.78   \n",
    "5   M   0 t/m  4 jaar  ACHTKARSPELEN              810      766456.80   \n",
    "\n",
    "   pharmaceuticals  mental\\_care  GP\\_capitation  GP\\_fee\\_for\\_service  GP\\_other  \\\\\n",
    "1         43305.49     14056.81       26239.56            12829.29  36034.65   \n",
    "2         23395.86      5555.83       21673.15             9417.98  20159.19   \n",
    "3         54597.52     34355.66       43971.27            22413.37  61629.32   \n",
    "4         43516.71      2404.19       33749.10            18472.64  46720.61   \n",
    "5         88084.16      6681.81       41477.79            19157.34  53633.01   \n",
    "\n",
    "   dental care  physiotherapy  maternity\\_care  obstetrics  \\\\\n",
    "1      9311.14       15968.80             0.0         0.0   \n",
    "2      7213.81        6135.05             0.0         0.0   \n",
    "3     19042.00       20086.43             0.0         0.0   \n",
    "4     12909.41       20762.75             0.0         0.0   \n",
    "5     16695.10       23423.96             0.0         0.0   \n",
    "\n",
    "   health\\_expenditure\\_under\\_deductible  \n",
    "1                            576750.31  \n",
    "2                            406856.55  \n",
    "3                           1093297.37  \n",
    "4                            652523.86  \n",
    "5                            954494.16  \n",
    "\n",
    "Now let's consider data types.\n",
    "\n"
   ]
  },
  {
   "cell_type": "code",
   "execution_count": 6,
   "metadata": {
    "collapsed": false
   },
   "outputs": [
    {
     "data": {
      "text/plain": [
       "sex                                     object\n",
       "age                                     object\n",
       "MUNICIPALITY                            object\n",
       "number_citizens                          int64\n",
       "hospital_care                          float64\n",
       "pharmaceuticals                        float64\n",
       "mental_care                            float64\n",
       "GP_capitation                          float64\n",
       "GP_fee_for_service                     float64\n",
       "GP_other                               float64\n",
       "dental care                            float64\n",
       "physiotherapy                          float64\n",
       "maternity_care                         float64\n",
       "obstetrics                             float64\n",
       "health_expenditure_under_deductible    float64\n",
       "dtype: object"
      ]
     },
     "execution_count": 6,
     "metadata": {},
     "output_type": "execute_result"
    }
   ],
   "source": [
    "df_gemeente.dtypes"
   ]
  },
  {
   "cell_type": "markdown",
   "metadata": {},
   "source": [
    "The first three variables are seen as \"object\", that is, strings. This is fine for `MUNICIPALITY` but is not quite right for `sex` and `age` as these are categories. So let's relabel their types.\n",
    "\n"
   ]
  },
  {
   "cell_type": "code",
   "execution_count": 7,
   "metadata": {
    "collapsed": false
   },
   "outputs": [
    {
     "name": "stdout",
     "output_type": "stream",
     "text": [
      "<class 'pandas.core.frame.DataFrame'>\n",
      "Int64Index: 14808 entries, 1 to 14808\n",
      "Data columns (total 15 columns):\n",
      "sex                                    14808 non-null category\n",
      "age                                    14808 non-null category\n",
      "MUNICIPALITY                           14808 non-null object\n",
      "number_citizens                        14808 non-null int64\n",
      "hospital_care                          14808 non-null float64\n",
      "pharmaceuticals                        14808 non-null float64\n",
      "mental_care                            14808 non-null float64\n",
      "GP_capitation                          14808 non-null float64\n",
      "GP_fee_for_service                     14808 non-null float64\n",
      "GP_other                               14808 non-null float64\n",
      "dental care                            14808 non-null float64\n",
      "physiotherapy                          14808 non-null float64\n",
      "maternity_care                         14808 non-null float64\n",
      "obstetrics                             14808 non-null float64\n",
      "health_expenditure_under_deductible    14808 non-null float64\n",
      "dtypes: category(2), float64(11), int64(1), object(1)\n",
      "memory usage: 1.6+ MB\n"
     ]
    }
   ],
   "source": [
    "df_gemeente['sex'] = df_gemeente['sex'].astype('category')\n",
    "df_gemeente['age'] = df_gemeente['age'].astype('category')\n",
    "df_gemeente.info()"
   ]
  },
  {
   "cell_type": "markdown",
   "metadata": {},
   "source": [
    "We can select rows from a dataframe using `loc`. Below, we consider the municipality Breda and people between 10 and 14 years old.\n",
    "\n"
   ]
  },
  {
   "cell_type": "code",
   "execution_count": 8,
   "metadata": {
    "collapsed": false
   },
   "outputs": [
    {
     "data": {
      "text/html": [
       "<div>\n",
       "<table border=\"1\" class=\"dataframe\">\n",
       "  <thead>\n",
       "    <tr style=\"text-align: right;\">\n",
       "      <th></th>\n",
       "      <th>sex</th>\n",
       "      <th>age</th>\n",
       "      <th>MUNICIPALITY</th>\n",
       "      <th>number_citizens</th>\n",
       "      <th>hospital_care</th>\n",
       "      <th>pharmaceuticals</th>\n",
       "      <th>mental_care</th>\n",
       "      <th>GP_capitation</th>\n",
       "      <th>GP_fee_for_service</th>\n",
       "      <th>GP_other</th>\n",
       "      <th>dental care</th>\n",
       "      <th>physiotherapy</th>\n",
       "      <th>maternity_care</th>\n",
       "      <th>obstetrics</th>\n",
       "      <th>health_expenditure_under_deductible</th>\n",
       "    </tr>\n",
       "  </thead>\n",
       "  <tbody>\n",
       "    <tr>\n",
       "      <th>832</th>\n",
       "      <td>M</td>\n",
       "      <td>10 t/m 14 jaar</td>\n",
       "      <td>BREDA</td>\n",
       "      <td>5206</td>\n",
       "      <td>2215947.11</td>\n",
       "      <td>381799.92</td>\n",
       "      <td>920439.00</td>\n",
       "      <td>301494.04</td>\n",
       "      <td>88705.2</td>\n",
       "      <td>142402.72</td>\n",
       "      <td>677836.15</td>\n",
       "      <td>187429.87</td>\n",
       "      <td>0.0</td>\n",
       "      <td>0.0</td>\n",
       "      <td>3756487.05</td>\n",
       "    </tr>\n",
       "    <tr>\n",
       "      <th>8234</th>\n",
       "      <td>V</td>\n",
       "      <td>10 t/m 14 jaar</td>\n",
       "      <td>BREDA</td>\n",
       "      <td>4915</td>\n",
       "      <td>1425550.97</td>\n",
       "      <td>255232.99</td>\n",
       "      <td>564944.21</td>\n",
       "      <td>284269.76</td>\n",
       "      <td>91482.6</td>\n",
       "      <td>134486.26</td>\n",
       "      <td>620303.59</td>\n",
       "      <td>202916.68</td>\n",
       "      <td>0.0</td>\n",
       "      <td>0.0</td>\n",
       "      <td>2795294.25</td>\n",
       "    </tr>\n",
       "  </tbody>\n",
       "</table>\n",
       "</div>"
      ],
      "text/plain": [
       "     sex             age MUNICIPALITY  number_citizens  hospital_care  \\\n",
       "832    M  10 t/m 14 jaar        BREDA             5206     2215947.11   \n",
       "8234   V  10 t/m 14 jaar        BREDA             4915     1425550.97   \n",
       "\n",
       "      pharmaceuticals  mental_care  GP_capitation  GP_fee_for_service  \\\n",
       "832         381799.92    920439.00      301494.04             88705.2   \n",
       "8234        255232.99    564944.21      284269.76             91482.6   \n",
       "\n",
       "       GP_other  dental care  physiotherapy  maternity_care  obstetrics  \\\n",
       "832   142402.72    677836.15      187429.87             0.0         0.0   \n",
       "8234  134486.26    620303.59      202916.68             0.0         0.0   \n",
       "\n",
       "      health_expenditure_under_deductible  \n",
       "832                            3756487.05  \n",
       "8234                           2795294.25  "
      ]
     },
     "execution_count": 8,
     "metadata": {},
     "output_type": "execute_result"
    }
   ],
   "source": [
    "df_gemeente.loc[(df_gemeente.MUNICIPALITY == 'BREDA') & (df_gemeente['age'] == '10 t/m 14 jaar')]"
   ]
  },
  {
   "cell_type": "markdown",
   "metadata": {},
   "source": [
    "If we are interested in one variable, e.g. `number_citizens`, we can select this as well.\n",
    "\n"
   ]
  },
  {
   "cell_type": "code",
   "execution_count": 9,
   "metadata": {
    "collapsed": false
   },
   "outputs": [
    {
     "data": {
      "text/plain": [
       "832     5206\n",
       "8234    4915\n",
       "Name: number_citizens, dtype: int64"
      ]
     },
     "execution_count": 9,
     "metadata": {},
     "output_type": "execute_result"
    }
   ],
   "source": [
    "df_gemeente.loc[(df_gemeente.MUNICIPALITY == 'BREDA') & (df_gemeente['age'] == '10 t/m 14 jaar')]['number_citizens']"
   ]
  },
  {
   "cell_type": "markdown",
   "metadata": {},
   "source": [
    "Note that the first number in each row is the index that pandas uses. \n",
    "\n",
    "---\n",
    "\n",
    "**Exercise**\n",
    "\n",
    "Why do we get two rows?\n",
    "\n",
    "Calculate how many citizens live in Breda between the age of 10 and 14.\n",
    "\n",
    "---\n",
    "\n",
    "We can also give lists of row values that we are interested in:\n",
    "\n"
   ]
  },
  {
   "cell_type": "code",
   "execution_count": 10,
   "metadata": {
    "collapsed": false
   },
   "outputs": [
    {
     "data": {
      "text/plain": [
       "832     5206\n",
       "1098    5817\n",
       "8234    4915\n",
       "8500    5651\n",
       "Name: number_citizens, dtype: int64"
      ]
     },
     "execution_count": 10,
     "metadata": {},
     "output_type": "execute_result"
    }
   ],
   "source": [
    "df_gemeente.loc[(df_gemeente.MUNICIPALITY.isin(['BREDA', 'TILBURG'])) & (df_gemeente['age'] == '10 t/m 14 jaar')]['number_citizens']"
   ]
  },
  {
   "cell_type": "markdown",
   "metadata": {},
   "source": [
    "---\n",
    "\n",
    "**Exercise**\n",
    "\n",
    "Calculate total health care expenditures under the deductible for people living in Amsterdam between the ages of 10 and 19 years old.\n",
    "\n",
    "---\n",
    "\n",
    "Now that we have the data ready, we are going to plot health care expenditures on the map of the Netherlands.\n",
    "\n"
   ]
  },
  {
   "cell_type": "markdown",
   "metadata": {},
   "source": [
    "\n",
    "## geographical figures\n",
    "\n"
   ]
  },
  {
   "cell_type": "markdown",
   "metadata": {},
   "source": [
    "We have map data that links the name of a municipality to coordinates\n",
    "on the map. In this map data, the names of municipalities are\n",
    "capitalized under standard Dutch capitalization like \"Aa en Hunze\". In\n",
    "our Vektis data, the names of municipalities are written in\n",
    "capitals. There are a number of ways to resolve this. To illustrate\n",
    "the `merge` command, we use a file with two columns: 1. the names of\n",
    "municipalities all capitalized and 2. normal capitalization. We drop\n",
    "the rows where there is no value for municipality (if such rows\n",
    "exist). We merge our data `df_gemeente` with the dataframe `Gemeentes`. We use a \"left-merge\", so all rows in the first dataframe `df_gemeente` are kept.\n",
    "\n"
   ]
  },
  {
   "cell_type": "code",
   "execution_count": 11,
   "metadata": {
    "collapsed": false
   },
   "outputs": [
    {
     "data": {
      "text/html": [
       "<div>\n",
       "<table border=\"1\" class=\"dataframe\">\n",
       "  <thead>\n",
       "    <tr style=\"text-align: right;\">\n",
       "      <th></th>\n",
       "      <th>sex</th>\n",
       "      <th>age</th>\n",
       "      <th>MUNICIPALITY</th>\n",
       "      <th>number_citizens</th>\n",
       "      <th>hospital_care</th>\n",
       "      <th>pharmaceuticals</th>\n",
       "      <th>mental_care</th>\n",
       "      <th>GP_capitation</th>\n",
       "      <th>GP_fee_for_service</th>\n",
       "      <th>GP_other</th>\n",
       "      <th>dental care</th>\n",
       "      <th>physiotherapy</th>\n",
       "      <th>maternity_care</th>\n",
       "      <th>obstetrics</th>\n",
       "      <th>health_expenditure_under_deductible</th>\n",
       "      <th>Municipality</th>\n",
       "    </tr>\n",
       "  </thead>\n",
       "  <tbody>\n",
       "    <tr>\n",
       "      <th>0</th>\n",
       "      <td>M</td>\n",
       "      <td>0 t/m  4 jaar</td>\n",
       "      <td>AA EN HUNZE</td>\n",
       "      <td>507</td>\n",
       "      <td>473370.77</td>\n",
       "      <td>43305.49</td>\n",
       "      <td>14056.81</td>\n",
       "      <td>26239.56</td>\n",
       "      <td>12829.29</td>\n",
       "      <td>36034.65</td>\n",
       "      <td>9311.14</td>\n",
       "      <td>15968.80</td>\n",
       "      <td>0.0</td>\n",
       "      <td>0.0</td>\n",
       "      <td>576750.31</td>\n",
       "      <td>Aa en Hunze</td>\n",
       "    </tr>\n",
       "    <tr>\n",
       "      <th>1</th>\n",
       "      <td>M</td>\n",
       "      <td>0 t/m  4 jaar</td>\n",
       "      <td>AALBURG</td>\n",
       "      <td>428</td>\n",
       "      <td>340442.37</td>\n",
       "      <td>23395.86</td>\n",
       "      <td>5555.83</td>\n",
       "      <td>21673.15</td>\n",
       "      <td>9417.98</td>\n",
       "      <td>20159.19</td>\n",
       "      <td>7213.81</td>\n",
       "      <td>6135.05</td>\n",
       "      <td>0.0</td>\n",
       "      <td>0.0</td>\n",
       "      <td>406856.55</td>\n",
       "      <td>Aalburg</td>\n",
       "    </tr>\n",
       "    <tr>\n",
       "      <th>2</th>\n",
       "      <td>M</td>\n",
       "      <td>0 t/m  4 jaar</td>\n",
       "      <td>AALSMEER</td>\n",
       "      <td>876</td>\n",
       "      <td>932841.57</td>\n",
       "      <td>54597.52</td>\n",
       "      <td>34355.66</td>\n",
       "      <td>43971.27</td>\n",
       "      <td>22413.37</td>\n",
       "      <td>61629.32</td>\n",
       "      <td>19042.00</td>\n",
       "      <td>20086.43</td>\n",
       "      <td>0.0</td>\n",
       "      <td>0.0</td>\n",
       "      <td>1093297.37</td>\n",
       "      <td>Aalsmeer</td>\n",
       "    </tr>\n",
       "    <tr>\n",
       "      <th>3</th>\n",
       "      <td>M</td>\n",
       "      <td>0 t/m  4 jaar</td>\n",
       "      <td>AALTEN</td>\n",
       "      <td>667</td>\n",
       "      <td>515879.78</td>\n",
       "      <td>43516.71</td>\n",
       "      <td>2404.19</td>\n",
       "      <td>33749.10</td>\n",
       "      <td>18472.64</td>\n",
       "      <td>46720.61</td>\n",
       "      <td>12909.41</td>\n",
       "      <td>20762.75</td>\n",
       "      <td>0.0</td>\n",
       "      <td>0.0</td>\n",
       "      <td>652523.86</td>\n",
       "      <td>Aalten</td>\n",
       "    </tr>\n",
       "    <tr>\n",
       "      <th>4</th>\n",
       "      <td>M</td>\n",
       "      <td>0 t/m  4 jaar</td>\n",
       "      <td>ACHTKARSPELEN</td>\n",
       "      <td>810</td>\n",
       "      <td>766456.80</td>\n",
       "      <td>88084.16</td>\n",
       "      <td>6681.81</td>\n",
       "      <td>41477.79</td>\n",
       "      <td>19157.34</td>\n",
       "      <td>53633.01</td>\n",
       "      <td>16695.10</td>\n",
       "      <td>23423.96</td>\n",
       "      <td>0.0</td>\n",
       "      <td>0.0</td>\n",
       "      <td>954494.16</td>\n",
       "      <td>Achtkarspelen</td>\n",
       "    </tr>\n",
       "  </tbody>\n",
       "</table>\n",
       "</div>"
      ],
      "text/plain": [
       "  sex             age   MUNICIPALITY  number_citizens  hospital_care  \\\n",
       "0   M   0 t/m  4 jaar    AA EN HUNZE              507      473370.77   \n",
       "1   M   0 t/m  4 jaar        AALBURG              428      340442.37   \n",
       "2   M   0 t/m  4 jaar       AALSMEER              876      932841.57   \n",
       "3   M   0 t/m  4 jaar         AALTEN              667      515879.78   \n",
       "4   M   0 t/m  4 jaar  ACHTKARSPELEN              810      766456.80   \n",
       "\n",
       "   pharmaceuticals  mental_care  GP_capitation  GP_fee_for_service  GP_other  \\\n",
       "0         43305.49     14056.81       26239.56            12829.29  36034.65   \n",
       "1         23395.86      5555.83       21673.15             9417.98  20159.19   \n",
       "2         54597.52     34355.66       43971.27            22413.37  61629.32   \n",
       "3         43516.71      2404.19       33749.10            18472.64  46720.61   \n",
       "4         88084.16      6681.81       41477.79            19157.34  53633.01   \n",
       "\n",
       "   dental care  physiotherapy  maternity_care  obstetrics  \\\n",
       "0      9311.14       15968.80             0.0         0.0   \n",
       "1      7213.81        6135.05             0.0         0.0   \n",
       "2     19042.00       20086.43             0.0         0.0   \n",
       "3     12909.41       20762.75             0.0         0.0   \n",
       "4     16695.10       23423.96             0.0         0.0   \n",
       "\n",
       "   health_expenditure_under_deductible   Municipality  \n",
       "0                            576750.31    Aa en Hunze  \n",
       "1                            406856.55        Aalburg  \n",
       "2                           1093297.37       Aalsmeer  \n",
       "3                            652523.86         Aalten  \n",
       "4                            954494.16  Achtkarspelen  "
      ]
     },
     "execution_count": 11,
     "metadata": {},
     "output_type": "execute_result"
    }
   ],
   "source": [
    "Gemeentes = pd.read_excel('Gemeentes.xlsx')\n",
    "df_gemeente = df_gemeente.dropna(subset=['MUNICIPALITY'])\n",
    "df_gem_merged = pd.merge(df_gemeente,Gemeentes,on=['MUNICIPALITY'],how='left')\n",
    "df_gem_merged.head()"
   ]
  },
  {
   "cell_type": "markdown",
   "metadata": {},
   "source": [
    "We are going to plot expenditure under the deductible per head for each municipality. We need a couple of steps in order to do this:\n",
    "\n",
    "1.  we add &#x2013;for each municipality&#x2013; the expenditures under the deductible across age groups;\n",
    "2.  we add &#x2013;for each municipality&#x2013; the number of people across age groups;\n",
    "3.  we divide &#x2013;for each municipality&#x2013; the expenditures by the number of people.\n",
    "\n",
    "With pandas this is straightforward to do using `groupby`. We do the `groupby` on the municipality. For each municipality there are different age groups and we need to aggregate over these age groups. We specify the variables that we want to know at the municipality level. In this case `health_expenditure_under_deductible` and `number_citizens`. Finally, we specify the function with which to aggregate. Here we use the 'built-in' function `sum()`. Other functions we can use include `mean`, `min`, `max` etc. You can also specify your own function and apply this using `agg()`.\n",
    "\n",
    "Then hospital care per head can be defined as the total expenditure per municipality divided by the total number of citizens per municipality.\n",
    "\n"
   ]
  },
  {
   "cell_type": "code",
   "execution_count": 12,
   "metadata": {
    "collapsed": true
   },
   "outputs": [],
   "source": [
    "results = df_gem_merged.groupby('Municipality')[['health_expenditure_under_deductible','number_citizens']].sum()\n",
    "results['expenditure_per_head'] = results['health_expenditure_under_deductible']/results['number_citizens']"
   ]
  },
  {
   "cell_type": "markdown",
   "metadata": {},
   "source": [
    "We create a dataframe with the variables that we want to plot on the map.\n",
    "\n"
   ]
  },
  {
   "cell_type": "code",
   "execution_count": 13,
   "metadata": {
    "collapsed": true
   },
   "outputs": [],
   "source": [
    "# Create a dataframe\n",
    "p_results = pd.DataFrame(dict(\n",
    "    municipality = results.index,\n",
    "    expenditure = results['expenditure_per_head']\n",
    "    ))"
   ]
  },
  {
   "cell_type": "markdown",
   "metadata": {},
   "source": [
    "---\n",
    "\n",
    "**Exercise**\n",
    "\n",
    "What do the first 10 rows of this dataframe look like?\n",
    "\n"
   ]
  },
  {
   "cell_type": "code",
   "execution_count": 1,
   "metadata": {
    "collapsed": true
   },
   "outputs": [],
   "source": []
  },
  {
   "cell_type": "markdown",
   "metadata": {},
   "source": [
    "---\n",
    "\n",
    "In order to plot on a map, we need the library `folium`. Instructions on how to install it can be found [here](https://github.com/python-visualization/folium).\n",
    "\n"
   ]
  },
  {
   "cell_type": "code",
   "execution_count": 14,
   "metadata": {
    "collapsed": false
   },
   "outputs": [
    {
     "data": {
      "text/html": [
       "\n",
       "        <iframe\n",
       "            width=\"800\"\n",
       "            height=\"800\"\n",
       "            src=\"health_expenditure.html\"\n",
       "            frameborder=\"0\"\n",
       "            allowfullscreen\n",
       "        ></iframe>\n",
       "        "
      ],
      "text/plain": [
       "<IPython.lib.display.IFrame at 0x110947860>"
      ]
     },
     "metadata": {},
     "output_type": "display_data"
    }
   ],
   "source": [
    "from IPython.display import display, IFrame\n",
    "import folium\n",
    "\n",
    "geo_path = r'Gemeentegrenzen_2016_zonder_water_simplified_wgs84.geojson'\n",
    "\n",
    "\n",
    "ref_map = folium.Map(\n",
    "    location=[52.139177, 5.327108], # This will center the view on the world map where the Netherlands is located\n",
    "    tiles='Mapbox Bright',          # This creates a base map and in this case its the Mapbox Bright basemap\n",
    "    zoom_start=8)                   # This will zoom in on the center of view to get the Netherlands in full frame\n",
    "\n",
    "ref_map.choropleth(\n",
    "    # This is the path to the geojson file that contains all the municipality shapes and locations\n",
    "    geo_path=geo_path,\n",
    "    # We will use the p_results dataframe for the choropleth mapping\n",
    "    data=p_results,\n",
    "    # municipality will be used for the mapping key and expenditure for its value\n",
    "    columns=['municipality', 'expenditure'],\n",
    "    # Use GM_NAAM (short for municipality name) as keys for colormapping\n",
    "    key_on='feature.properties.GM_NAAM',\n",
    "    # We are going to use a color map from yellow to green\n",
    "    fill_color='YlGn',\n",
    "    # This gives municipality shapes some opacity so that we can still see the background\n",
    "    fill_opacity=0.7,\n",
    "    # This gives the lines around the municipality shapes some opacity so that they don't stand out too much\n",
    "    line_opacity=0.2,\n",
    "    # The legend\n",
    "    legend_name='health care expenditure per head')\n",
    "\n",
    "ref_map.save('health_expenditure.html')              # This will save the map in a HTML format\n",
    "\n",
    "display(IFrame('health_expenditure.html', 800,800))  # This displays the map in an Iframe"
   ]
  },
  {
   "cell_type": "markdown",
   "metadata": {},
   "source": [
    "---\n",
    "\n",
    "**Exercise**\n",
    "\n",
    "Plot number of citizens per municipality using color scheme 'OrRd'.\n",
    "\n",
    "---\n",
    "\n"
   ]
  },
  {
   "cell_type": "markdown",
   "metadata": {},
   "source": [
    "\n",
    "# Health care expenditure and age\n",
    "\n"
   ]
  },
  {
   "cell_type": "markdown",
   "metadata": {},
   "source": [
    "The municipality data set above does not give the health care expenditure per age; only per age group (like 0-4 year olds). So we load another data set that does feature health care expenditure per age.\n",
    "\n"
   ]
  },
  {
   "cell_type": "markdown",
   "metadata": {},
   "source": [
    "\n",
    "## read in the data\n",
    "\n"
   ]
  },
  {
   "cell_type": "markdown",
   "metadata": {},
   "source": [
    "Again, we use data from [Vektis](http://www.vektis.nl/index.php/vektis-open-data). We import the data, which is a 'csv' file with \";\" as separator between columns. We also import some libraries.\n",
    "\n",
    "Then we look at the columns (variables) in the data.\n",
    "\n"
   ]
  },
  {
   "cell_type": "code",
   "execution_count": 15,
   "metadata": {
    "collapsed": false
   },
   "outputs": [
    {
     "name": "stderr",
     "output_type": "stream",
     "text": [
      "/Users/boone/anaconda/lib/python3.5/site-packages/IPython/core/interactiveshell.py:2717: DtypeWarning: Columns (1) have mixed types. Specify dtype option on import or set low_memory=False.\n",
      "  interactivity=interactivity, compiler=compiler, result=result)\n"
     ]
    }
   ],
   "source": [
    "import numpy as np\n",
    "import pandas as pd\n",
    "import matplotlib as plt\n",
    "df_postal_code = pd.read_csv('Vektis_Open_Databestand_Zorgverzekeringswet_2014_-_postcode3.csv', sep = ';')\n",
    "df_postal_code.dtypes\n",
    "%matplotlib inline"
   ]
  },
  {
   "cell_type": "markdown",
   "metadata": {},
   "source": [
    "This looks very much like the data set above, so we want to do the same steps to get the data into the shape we want. In fact, if you go to the website [Vektis](http://www.vektis.nl/index.php/vektis-open-data) there are similar data sets for other years. Copy and paste the steps above and then apply these steps to the new data sets is asking for trouble:\n",
    "\n",
    "-   you are likely to make mistakes with copy/paste\n",
    "-   if you figure out that you want to change one of your commands, you have to change all the pasted versions as well\n",
    "\n",
    "One solution in python is to define a function that does all these steps for you and apply this function to all the data sets that you want to work with.\n",
    "\n"
   ]
  },
  {
   "cell_type": "code",
   "execution_count": 16,
   "metadata": {
    "collapsed": true
   },
   "outputs": [],
   "source": [
    "cost_categories_under_deductible = ['KOSTEN_MEDISCH_SPECIALISTISCHE_ZORG', 'KOSTEN_MONDZORG', 'KOSTEN_FARMACIE', 'KOSTEN_HULPMIDDELEN', 'KOSTEN_PARAMEDISCHE_ZORG_FYSIOTHERAPIE', 'KOSTEN_PARAMEDISCHE_ZORG_OVERIG', 'KOSTEN_ZIEKENVERVOER_ZITTEND', 'KOSTEN_ZIEKENVERVOER_LIGGEND', 'KOSTEN_GRENSOVERSCHRIJDENDE_ZORG', 'KOSTEN_GERIATRISCHE_REVALIDATIEZORG', 'KOSTEN_OVERIG']\n",
    "\n",
    "def get_data_into_shape(df):\n",
    "    df['health_expenditure_under_deductible'] = df[cost_categories_under_deductible].sum(axis=1)\n",
    "    df = df.rename_axis({\n",
    "        'GESLACHT':'sex',\n",
    "        'LEEFTIJDSKLASSE':'age',\n",
    "        'GEMEENTENAAM':'MUNICIPALITY',\n",
    "        'AANTAL_BSN':'number_citizens',\n",
    "        'KOSTEN_MEDISCH_SPECIALISTISCHE_ZORG':'hospital_care',\n",
    "        'KOSTEN_FARMACIE':'pharmaceuticals',\n",
    "        'KOSTEN_TWEEDELIJNS_GGZ':'mental_care',\n",
    "        'KOSTEN_HUISARTS_INSCHRIJFTARIEF':'GP_capitation',\n",
    "        'KOSTEN_HUISARTS_CONSULT':'GP_fee_for_service',\n",
    "        'KOSTEN_HUISARTS_OVERIG':'GP_other',\n",
    "        'KOSTEN_MONDZORG':'dental care',\n",
    "        'KOSTEN_PARAMEDISCHE_ZORG_FYSIOTHERAPIE':'physiotherapy',\n",
    "        'KOSTEN_KRAAMZORG':'maternity_care',\n",
    "        'KOSTEN_VERLOSKUNDIGE_ZORG':'obstetrics'\n",
    "    }, axis='columns')\n",
    "    df.drop(['AANTAL_VERZEKERDEJAREN',\n",
    "             'KOSTEN_HULPMIDDELEN',\n",
    "             'KOSTEN_PARAMEDISCHE_ZORG_OVERIG',\n",
    "             'KOSTEN_ZIEKENVERVOER_ZITTEND',\n",
    "             'KOSTEN_ZIEKENVERVOER_LIGGEND',\n",
    "             'KOSTEN_GRENSOVERSCHRIJDENDE_ZORG',\n",
    "             'KOSTEN_GERIATRISCHE_REVALIDATIEZORG',\n",
    "             'KOSTEN_OVERIG',\n",
    "             'KOSTEN_GENERALISTISCHE_BASIS_GGZ',\n",
    "             'KOSTEN_EERSTELIJNS_ONDERSTEUNING'],inplace=True,axis=1)\n",
    "    df.drop(df.index[[0]], inplace=True)\n",
    "    df['sex'] = df['sex'].astype('category')\n",
    "    df['age'] = df['age'].astype('category')\n",
    "    return df"
   ]
  },
  {
   "cell_type": "markdown",
   "metadata": {},
   "source": [
    "Then we get the data into shape using the function just defined:\n",
    "\n"
   ]
  },
  {
   "cell_type": "code",
   "execution_count": 17,
   "metadata": {
    "collapsed": true
   },
   "outputs": [],
   "source": [
    "df_postal_code = get_data_into_shape(df_postal_code)"
   ]
  },
  {
   "cell_type": "markdown",
   "metadata": {},
   "source": [
    "---\n",
    "\n",
    "**Exercise**\n",
    "\n",
    "What do the first couple of rows look like now?\n",
    "\n"
   ]
  },
  {
   "cell_type": "code",
   "execution_count": 1,
   "metadata": {
    "collapsed": true
   },
   "outputs": [],
   "source": []
  },
  {
   "cell_type": "markdown",
   "metadata": {},
   "source": [
    "---\n",
    "\n",
    "The first three columns are 'sex', 'age' and 'postal code' (3 digit). These 3 variables combined determine a unique observation. We think of these observations as if they are from an individual (but an observation is an average, like the average over 18 year old males in postal code 102).\n",
    "\n",
    "---\n",
    "\n",
    "**Exercise** \n",
    "\n",
    "What do the last 10 rows of the dataframe look like?\n",
    "\n"
   ]
  },
  {
   "cell_type": "code",
   "execution_count": 1,
   "metadata": {
    "collapsed": true
   },
   "outputs": [],
   "source": []
  },
  {
   "cell_type": "markdown",
   "metadata": {},
   "source": [
    "---\n",
    "\n",
    "As we saw above, the datatype of `age` was `object`, although we would expect `integer`. Now we see that there is this category `90+`, which is not an integer. We will drop this age category as it is quite special. Before we do this, let's count how many people we have in our dataset.\n",
    "\n",
    "---\n",
    "\n",
    "**Exercise**\n",
    "\n",
    "Count the total number of citizens in this data set.\n",
    "\n"
   ]
  },
  {
   "cell_type": "code",
   "execution_count": 1,
   "metadata": {
    "collapsed": true
   },
   "outputs": [],
   "source": []
  },
  {
   "cell_type": "markdown",
   "metadata": {},
   "source": [
    "---\n",
    "\n",
    "Let's drop the '90+' category and turn `age` into an integer variable.\n",
    "\n"
   ]
  },
  {
   "cell_type": "code",
   "execution_count": 18,
   "metadata": {
    "collapsed": true
   },
   "outputs": [],
   "source": [
    "df_postal_code = df_postal_code[(df_postal_code['age'] != '90+')]\n",
    "df_postal_code['age'] = df_postal_code['age'].astype(int)"
   ]
  },
  {
   "cell_type": "markdown",
   "metadata": {},
   "source": [
    "---\n",
    "\n",
    "**Exercise**\n",
    "\n",
    "Check how many observations you have and what the data type is of each variable.\n",
    "\n"
   ]
  },
  {
   "cell_type": "code",
   "execution_count": 1,
   "metadata": {
    "collapsed": true
   },
   "outputs": [],
   "source": []
  },
  {
   "cell_type": "markdown",
   "metadata": {},
   "source": [
    "---\n",
    "\n",
    "Now let's define the costs per head. For each observation, we divide the total health care costs (under the deductible) for a combination of `sex`, `age` and `postal code` by the number of people in this combination of `sex`, `age` and `postal code`. This gives the health costs per head.\n",
    "\n",
    "---\n",
    "\n",
    "**Exercise**\n",
    "\n",
    "Define health care costs per head:\n",
    "\n"
   ]
  },
  {
   "cell_type": "code",
   "execution_count": null,
   "metadata": {
    "collapsed": false
   },
   "outputs": [],
   "source": [
    "df_postal_code['health_costs_per_head']"
   ]
  },
  {
   "cell_type": "markdown",
   "metadata": {},
   "source": [
    "---\n",
    "\n",
    "So for, say, 18 year old males, we have a distribution of costs per head over the different `postal codes`. For each combination of age and sex, we can look at the average expenditure. With `pandas` this is easy to do. We use `groupby`, specify the dimensions over which we want to group, the variable we are interested in and give the function to aggregate (mean, in this case).\n",
    "\n"
   ]
  },
  {
   "cell_type": "code",
   "execution_count": 1,
   "metadata": {
    "collapsed": true
   },
   "outputs": [],
   "source": [
    "costs_per_sex_age = df_postal_code.groupby(['sex','age'])['health_costs_per_head'].mean()"
   ]
  },
  {
   "cell_type": "markdown",
   "metadata": {},
   "source": [
    "\n",
    "## matplotlib\n",
    "\n"
   ]
  },
  {
   "cell_type": "markdown",
   "metadata": {},
   "source": [
    "Then we can plot this distribution of health care expenditure per head with age for males and females.\n",
    "\n"
   ]
  },
  {
   "cell_type": "code",
   "execution_count": 1,
   "metadata": {
    "collapsed": false
   },
   "outputs": [
    {
     "name": "stdout",
     "output_type": "stream",
     "text": [
      "<matplotlib.figure.Figure at 0x1160f2128>"
     ]
    },
    {
     "data": {
      "image/png": "[encoded data removed]",
      "text/plain": [
       "<matplotlib.figure.Figure>"
      ]
     },
     "metadata": {},
     "output_type": "display_data"
    }
   ],
   "source": [
    "import matplotlib.pyplot as plt\n",
    "plt.style.use('seaborn')\n",
    "fig = plt.figure()\n",
    "ax = costs_per_sex_age['M'].plot()\n",
    "ax = costs_per_sex_age['V'].plot()\n",
    "ax.set_xlabel('age')\n",
    "ax.set_ylabel('costs per head')\n",
    "ax.set_title('average costs per age and sex')\n",
    "ax.legend(['male','female'])\n",
    "fig.savefig(\"males.png\")"
   ]
  },
  {
   "cell_type": "markdown",
   "metadata": {},
   "source": [
    "---\n",
    "\n",
    "**Exercise**\n",
    "\n",
    "Finish the following code block to show how total obstetrics vary with 'age' and 'sex' (what would you guess&#x2026;).\n",
    "\n"
   ]
  },
  {
   "cell_type": "code",
   "execution_count": 1,
   "metadata": {
    "collapsed": true
   },
   "outputs": [],
   "source": [
    "obstetrics_per_sex_age = df_postal_code.groupby(['sex','age'])['obstetrics'].sum()\n",
    "\n",
    "....\n",
    "\n",
    "fig.savefig(\"obstetrics.png\")"
   ]
  },
  {
   "cell_type": "markdown",
   "metadata": {},
   "source": [
    "---\n",
    "\n",
    "We can plot a histogram of the distribution of hospital care expenditure across postal code areas.\n",
    "\n"
   ]
  },
  {
   "cell_type": "code",
   "execution_count": 1,
   "metadata": {
    "collapsed": false
   },
   "outputs": [
    {
     "name": "stdout",
     "output_type": "stream",
     "text": [
      "<matplotlib.figure.Figure at 0x1160eecf8>"
     ]
    },
    {
     "data": {
      "image/png": "[encoded data removed]",
      "text/plain": [
       "<matplotlib.figure.Figure>"
      ]
     },
     "metadata": {},
     "output_type": "display_data"
    }
   ],
   "source": [
    "hospital_care_expenditure = df_postal_code.groupby(['age','POSTCODE_3'])['hospital_care'].sum()\n",
    "\n",
    "plt.clf()\n",
    "plt.hist(hospital_care_expenditure[7],normed = True, bins = 100)\n",
    "plt.show()"
   ]
  },
  {
   "cell_type": "markdown",
   "metadata": {},
   "source": [
    "---\n",
    "\n",
    "**Exercise**\n",
    "\n",
    "In which fraction of postal code areas does hospital expenditures on 50 year olds exceed 50000 euro? Finish the following code block to find out.\n",
    "\n"
   ]
  },
  {
   "cell_type": "code",
   "execution_count": 1,
   "metadata": {
    "collapsed": true
   },
   "outputs": [],
   "source": [
    "sum()/len()"
   ]
  },
  {
   "cell_type": "markdown",
   "metadata": {},
   "source": [
    "---\n",
    "\n",
    "Suppose you are interested in the effect of the deductible on health care expenditure. Why would the following graph help for this?\n",
    "\n"
   ]
  },
  {
   "cell_type": "code",
   "execution_count": 1,
   "metadata": {
    "collapsed": false
   },
   "outputs": [
    {
     "name": "stdout",
     "output_type": "stream",
     "text": [
      "<matplotlib.figure.Figure at 0x112e4a400>"
     ]
    },
    {
     "data": {
      "image/png": "[encoded data removed]",
      "text/plain": [
       "<matplotlib.figure.Figure>"
      ]
     },
     "metadata": {},
     "output_type": "display_data"
    }
   ],
   "source": [
    "plt.style.use('seaborn')\n",
    "plt.clf()\n",
    "age_range = [14,15,16,17,19,20,21,22]\n",
    "\n",
    "plt.plot(age_range,costs_per_sex_age['M'][age_range], marker='.', label = 'male')\n",
    "plt.plot(age_range,costs_per_sex_age['V'][age_range], marker='.', label = 'female')\n",
    "plt.xlabel('age')\n",
    "plt.ylabel('health care costs')\n",
    "plt.legend()\n",
    "fig.savefig('fig14to22.png')"
   ]
  },
  {
   "cell_type": "markdown",
   "metadata": {},
   "source": [
    "\n",
    "## plotly\n",
    "\n"
   ]
  },
  {
   "cell_type": "markdown",
   "metadata": {},
   "source": [
    "Instead of `matplotlib` to plot, we can also use `plotly`. With `plotly` you can make interactive graphs. The graph runs on plotly's servers and can for instance be included in presentations.\n",
    "\n",
    "We are going to plot the cumulative distribution functions of health care expenditure for different age groups. We first define the cumulative distribution function `ecdf`.\n",
    "\n"
   ]
  },
  {
   "cell_type": "code",
   "execution_count": 1,
   "metadata": {
    "collapsed": true
   },
   "outputs": [],
   "source": [
    "def ecdf(data):\n",
    "    x = np.sort(data)\n",
    "    y = np.arange(1.0, len(x)+1.0) / len(x)\n",
    "    return x, y"
   ]
  },
  {
   "cell_type": "markdown",
   "metadata": {},
   "source": [
    "Then we define the $x$ and $y$ coordinates of the functions we want to plot: the `ecdf` of health care expenditures for ages 16, 17, 19 and 20.\n",
    "\n"
   ]
  },
  {
   "cell_type": "code",
   "execution_count": 1,
   "metadata": {
    "collapsed": true
   },
   "outputs": [],
   "source": [
    "x_16, y_16 = ecdf(df_postal_code.health_costs_per_head[(df_postal_code['age'] == 16)])\n",
    "x_17, y_17 = ecdf(df_postal_code.health_costs_per_head[(df_postal_code['age'] == 17)])\n",
    "x_19, y_19 = ecdf(df_postal_code.health_costs_per_head[(df_postal_code['age'] == 19)])\n",
    "x_20, y_20 = ecdf(df_postal_code.health_costs_per_head[(df_postal_code['age'] == 20)])"
   ]
  },
  {
   "cell_type": "markdown",
   "metadata": {},
   "source": [
    "We import plotly.\n",
    "\n"
   ]
  },
  {
   "cell_type": "code",
   "execution_count": 1,
   "metadata": {
    "collapsed": true
   },
   "outputs": [],
   "source": [
    "import plotly.plotly as py\n",
    "from plotly.graph_objs import *\n",
    "import plotly.tools as tls"
   ]
  },
  {
   "cell_type": "markdown",
   "metadata": {},
   "source": [
    "Finally, we define the graph itself. We specify the \"Scatter's\" and the layout. The web address can be used if you want to include this graph in a presentation.\n",
    "\n"
   ]
  },
  {
   "cell_type": "code",
   "execution_count": 1,
   "metadata": {
    "collapsed": false
   },
   "outputs": [
    {
     "name": "stdout",
     "output_type": "stream",
     "text": [
      "<plotly.tools.PlotlyDisplay object>"
     ]
    }
   ],
   "source": [
    "age16 = Scatter(\n",
    "    x=x_16,\n",
    "    y=y_16,\n",
    "    mode='markers+lines',\n",
    "    name = 'age 16'\n",
    ")\n",
    "age17 = Scatter(\n",
    "    x=x_17,\n",
    "    y=y_17,\n",
    "    mode='markers+lines',\n",
    "    name = 'age 17'\n",
    ")\n",
    "age19 = Scatter(\n",
    "    x=x_19,\n",
    "    y=y_19,\n",
    "    mode='markers+lines',\n",
    "    name = 'age 19'\n",
    ")\n",
    "age20 = Scatter(\n",
    "    x=x_20,\n",
    "    y=y_20,\n",
    "    mode='markers+lines',\n",
    "    name = 'age 20'\n",
    ")\n",
    "\n",
    "layout = Layout(\n",
    "    title='Health care expend. distribution functions',\n",
    "    xaxis=XAxis(\n",
    "        range=[0,3000],\n",
    "        title='expenditure per head',\n",
    "        titlefont=Font(\n",
    "            family='Courier New, monospace',\n",
    "            size=18,\n",
    "            color='#7f7f7f'\n",
    "        )\n",
    "    ),\n",
    "    yaxis=YAxis(\n",
    "        title='cum. distribution function',\n",
    "        titlefont=Font(\n",
    "            family='Courier New, monospace',\n",
    "            size=18,\n",
    "            color='#7f7f7f'\n",
    "        )\n",
    "    )\n",
    ")\n",
    "\n",
    "data = Data([age16,age17,age19,age20])\n",
    "fig = Figure(data=data, layout=layout)\n",
    "py.plot(fig, filename='Distribution functions of health care expenditure per head')\n",
    "tls.embed(\"https://plot.ly/~janboone/301\")"
   ]
  },
  {
   "cell_type": "markdown",
   "metadata": {},
   "source": [
    "\n",
    "# A first look at machine learning\n",
    "\n"
   ]
  },
  {
   "cell_type": "markdown",
   "metadata": {},
   "source": [
    "Python is used a lot in data science. If you are interested you can check out libraries like [TensorFlow](https://www.tensorflow.org/) and [keras](https://keras.io/). We will have a (brief) look at [scikit-learn](http://scikit-learn.org/stable/index.html). If you want to know more, go to [Datacamp](https://campus.datacamp.com/courses/supervised-learning-with-scikit-learn/classification?ex=1) and follow the course before your subscription runs out&#x2026;\n",
    "\n",
    "We will use the data set above and see whether we can distinguish different age-categories based on their health care expenditure. From the dataframe we select the age categories 25 and 70. Then we use the expenditure per head in each category to predict the age-sex category of this postal code area.\n",
    "\n",
    "As above we import the relevant libraries and data.\n",
    "\n"
   ]
  },
  {
   "cell_type": "code",
   "execution_count": 1,
   "metadata": {
    "collapsed": true
   },
   "outputs": [],
   "source": [
    "import numpy as np\n",
    "import pandas as pd\n",
    "import matplotlib as plt\n",
    "df_postal_code = pd.read_csv('Vektis_Open_Databestand_Zorgverzekeringswet_2014_-_postcode3.csv', sep = ';')"
   ]
  },
  {
   "cell_type": "markdown",
   "metadata": {},
   "source": [
    "We now use a slightly different way to get the data into shape and hence we rename the function.\n",
    "\n"
   ]
  },
  {
   "cell_type": "code",
   "execution_count": 1,
   "metadata": {
    "collapsed": true
   },
   "outputs": [],
   "source": [
    "def get_data_into_shape_2(df):\n",
    "    df = df.rename_axis({\n",
    "        'GESLACHT':'sex',\n",
    "        'LEEFTIJDSKLASSE':'age',\n",
    "        'GEMEENTENAAM':'MUNICIPALITY',\n",
    "        'AANTAL_BSN':'number_citizens',\n",
    "        'KOSTEN_MEDISCH_SPECIALISTISCHE_ZORG':'hospital_care',\n",
    "        'KOSTEN_FARMACIE':'pharmaceuticals',\n",
    "        'KOSTEN_TWEEDELIJNS_GGZ':'mental_care',\n",
    "        'KOSTEN_HUISARTS_INSCHRIJFTARIEF':'GP_capitation',\n",
    "        'KOSTEN_HUISARTS_CONSULT':'GP_fee_for_service',\n",
    "        'KOSTEN_HUISARTS_OVERIG':'GP_other',\n",
    "        'KOSTEN_MONDZORG':'dental_care',\n",
    "        'KOSTEN_PARAMEDISCHE_ZORG_FYSIOTHERAPIE':'physiotherapy',\n",
    "        'KOSTEN_KRAAMZORG':'maternity_care',\n",
    "        'KOSTEN_VERLOSKUNDIGE_ZORG':'obstetrics',\n",
    "        'KOSTEN_GERIATRISCHE_REVALIDATIEZORG':'geriatrics'\n",
    "                        }, axis='columns')\n",
    "    df.drop(['AANTAL_VERZEKERDEJAREN',\n",
    "             'KOSTEN_HULPMIDDELEN',\n",
    "             'KOSTEN_PARAMEDISCHE_ZORG_OVERIG',\n",
    "             'KOSTEN_ZIEKENVERVOER_ZITTEND',\n",
    "             'KOSTEN_ZIEKENVERVOER_LIGGEND',\n",
    "             'KOSTEN_GRENSOVERSCHRIJDENDE_ZORG',\n",
    "             'KOSTEN_OVERIG',\n",
    "             'KOSTEN_GENERALISTISCHE_BASIS_GGZ',\n",
    "             'KOSTEN_EERSTELIJNS_ONDERSTEUNING'],inplace=True,axis=1)\n",
    "    df.drop(df.index[[0]], inplace=True)\n",
    "    return df"
   ]
  },
  {
   "cell_type": "markdown",
   "metadata": {},
   "source": [
    "With the function above, we first get the data into the shape that we want.\n",
    "\n"
   ]
  },
  {
   "cell_type": "code",
   "execution_count": 1,
   "metadata": {
    "collapsed": true
   },
   "outputs": [],
   "source": [
    "df_postal_code = get_data_into_shape_2(df_postal_code)"
   ]
  },
  {
   "cell_type": "markdown",
   "metadata": {},
   "source": [
    "We are going to consider the ages 25 and 70. As age can be integer or string, we include both in the list of age-values that we wish to select.\n",
    "\n"
   ]
  },
  {
   "cell_type": "code",
   "execution_count": 1,
   "metadata": {
    "collapsed": true
   },
   "outputs": [],
   "source": [
    "df_25_70 = df_postal_code[df_postal_code['age'].isin(['25','70', 25, 70])]"
   ]
  },
  {
   "cell_type": "markdown",
   "metadata": {},
   "source": [
    "We define the groups as \"25M\" for 25 year old males. In order to add the columns \"sex\" and \"age\", they need to be strings as in python adding the strings \\`\"abc\"+\"def\"\\` yields \\`\"abcdef\"\\`; which is exactly what we want.\n",
    "\n"
   ]
  },
  {
   "cell_type": "code",
   "execution_count": 1,
   "metadata": {
    "collapsed": true
   },
   "outputs": [],
   "source": [
    "df_25_70.age = df_25_70.age.astype('str')\n",
    "df_25_70.sex = df_25_70.sex.astype('str')\n",
    "df_25_70['target'] = df_25_70.age+df_25_70.sex"
   ]
  },
  {
   "cell_type": "markdown",
   "metadata": {},
   "source": [
    "This combination of age and sex (4 categories) is the variable that we want to predict. Hence, we call the variable \\`target\\`. We turn \\`target\\` into a category and find that there are indeed 4 of these categories.\n",
    "\n"
   ]
  },
  {
   "cell_type": "code",
   "execution_count": 1,
   "metadata": {
    "collapsed": false
   },
   "outputs": [
    {
     "name": "stdout",
     "output_type": "stream",
     "text": [
      "Index(['25.0M', '25V', '70M', '70V'], dtype='object')"
     ]
    }
   ],
   "source": [
    "df_25_70['target'] = df_25_70['target'].astype('category')\n",
    "df_25_70['target'].cat.categories"
   ]
  },
  {
   "cell_type": "markdown",
   "metadata": {},
   "source": [
    "With \\`.cat.codes\\` we turn our categories into integers 0, 1, 2, 3.\n",
    "\n"
   ]
  },
  {
   "cell_type": "code",
   "execution_count": 1,
   "metadata": {
    "collapsed": false
   },
   "outputs": [
    {
     "name": "stdout",
     "output_type": "stream",
     "text": [
      "count    3031.000000\n",
      "mean        1.501815\n",
      "std         1.119250\n",
      "min         0.000000\n",
      "25%         0.000000\n",
      "50%         2.000000\n",
      "75%         3.000000\n",
      "max         3.000000\n",
      "dtype: float64"
     ]
    }
   ],
   "source": [
    "df_25_70['target'].cat.codes.describe()"
   ]
  },
  {
   "cell_type": "markdown",
   "metadata": {},
   "source": [
    "We redefine expenditures in each care category as per head expenditure in the 3 digit postal code area. We then think of each area as being an \"individual\". Based on the individuals expenditure per care category, we predict age and sex. The following code redefines for each care category the total expenditure into an expenditure per head.\n",
    "\n"
   ]
  },
  {
   "cell_type": "code",
   "execution_count": 1,
   "metadata": {
    "collapsed": true
   },
   "outputs": [],
   "source": [
    "care_categories = ['hospital_care', 'pharmaceuticals', 'mental_care', 'GP_capitation', 'GP_fee_for_service', 'GP_other', 'dental_care', 'physiotherapy', 'maternity_care', 'obstetrics', 'geriatrics']\n",
    "\n",
    "for variable in care_categories:\n",
    "    df_25_70[variable] = df_25_70[variable]/df_25_70['number_citizens']"
   ]
  },
  {
   "cell_type": "markdown",
   "metadata": {},
   "source": [
    "---\n",
    "\n",
    "**Exercise**\n",
    "\n",
    "Get a sense of what the dataframe `df_25_70` looks like.\n",
    "\n"
   ]
  },
  {
   "cell_type": "code",
   "execution_count": 1,
   "metadata": {
    "collapsed": true
   },
   "outputs": [],
   "source": []
  },
  {
   "cell_type": "markdown",
   "metadata": {},
   "source": [
    "---\n",
    "\n",
    "The variable \\`target\\` is the variable we would like to predict. Hence, we call it $y$. We choose a subset of health care expenditure categories (you can experiment with this yourself) as predictors (independent variables) and denote the variables in this subset by $X$.\n",
    "\n"
   ]
  },
  {
   "cell_type": "code",
   "execution_count": 1,
   "metadata": {
    "collapsed": true
   },
   "outputs": [],
   "source": [
    "y = df_25_70.target\n",
    "\n",
    "subset_care_categories = ['physiotherapy', 'obstetrics', 'geriatrics', 'pharmaceuticals']\n",
    "X = df_25_70[subset_care_categories]"
   ]
  },
  {
   "cell_type": "markdown",
   "metadata": {},
   "source": [
    "In this version of the notebook we use four cost categories to separate the different age-sex types. The algorithm below makes this separation in four dimensional space. To get a first intuition, we can consider the data points in two dimensional space, using pairwise combinations of the cost categories. The function \\`scatter\\_matrix\\` does this for each pairwise combination of the cost categories. By turning the variable \\`target\\` into integers 0,1,2,3 we can use this variable to color the points. Each category has its own color. For this translation to integers, we use the \\`.cat.codes\\` attribute that we saw above.\n",
    "\n"
   ]
  },
  {
   "cell_type": "code",
   "execution_count": 1,
   "metadata": {
    "collapsed": false
   },
   "outputs": [
    {
     "name": "stdout",
     "output_type": "stream",
     "text": [
      "<matplotlib.figure.Figure at 0x1181a97f0>"
     ]
    },
    {
     "data": {
      "image/png": "[encoded data removed]",
      "text/plain": [
       "<matplotlib.figure.Figure>"
      ]
     },
     "metadata": {},
     "output_type": "display_data"
    }
   ],
   "source": [
    "from pandas.tools.plotting import scatter_matrix # Import the function to plot a scatterplot\n",
    "    \n",
    "%matplotlib inline\n",
    "\n",
    "scatter_matrix(\n",
    "    X,  # drop the none feature columns\n",
    "    figsize=(12, 12),                                             # square figuresize for the matrix\n",
    "    alpha=0.5,                                                    # alpha of 0.5 to see overlapping dots\n",
    "    s=50,                                                         # fixed size of 50\n",
    "    c=[plt.cm.get_cmap('rainbow', 4)(idx) for idx in df_25_70['target'].cat.codes],\n",
    "    diagonal='kde');                                              # diagonal line are feature distributions"
   ]
  },
  {
   "cell_type": "markdown",
   "metadata": {},
   "source": [
    "In order to classify points, we use the k-neighbours method. The idea is as follows. To classify a point, we consider its $k$ closest neighbours. If the majority of these neighbours have label, say '70M', then we classify this point also as '70M'.\n",
    "\n",
    "As the goal here is to predict, we do not worry about concepts like normal distribution, p-values, co-linearity. We simply split the data set into two subsets. We estimate (train) the model on the first data set. Then we apply the estimated model on the other (test) data. For the test data we calculate how often we get it right.\n",
    "\n",
    "From scikit-learn we import the function \\`train\\_test\\_split\\`. This function splits our data $X,y$ into a training and a testing data set. The size of the test data set is set at 30% here. We can set the seed (21) for the random number generator &#x2013;don't worry if this does not mean anything to you. Finally, we stratify the data such that the distribution of labels is the same in the training and testing data.\n",
    "\n",
    "Here we set the number of neighbours equal to $k=8$. Higher values of $k$ give smoother results and lead to a \"simpler\" model but misses local subtleties. The extreme is where $k=n$ (the number of observations). Then all observations get the same label (the mode of the distribution). \n",
    "\n",
    "Then we fit this model \\`knn\\` to our training data. After we fitted the model, we can predict labels in the test data set. The score indicates the percentage of labels we got right in the test data.\n",
    "\n"
   ]
  },
  {
   "cell_type": "code",
   "execution_count": 1,
   "metadata": {
    "collapsed": false
   },
   "outputs": [
    {
     "name": "stdout",
     "output_type": "stream",
     "text": [
      "0.724175824176"
     ]
    }
   ],
   "source": [
    "from sklearn.model_selection import train_test_split\n",
    "from sklearn.neighbors import KNeighborsClassifier\n",
    "\n",
    "X_train, X_test, y_train, y_test = train_test_split(X, y, test_size=0.3, random_state=21, stratify=y)\n",
    "knn = KNeighborsClassifier(n_neighbors=8)\n",
    "knn.fit(X_train, y_train)\n",
    "y_pred = knn.predict(X_test)\n",
    "print(knn.score(X_test, y_test))"
   ]
  },
  {
   "cell_type": "markdown",
   "metadata": {},
   "source": [
    "Now let us focus on women with age 25 and 70. Intuitively, with categories like 'obstetrics' and 'geriatrics' we should be able to separate these categories perfectly. And indeed we are.\n",
    "\n"
   ]
  },
  {
   "cell_type": "code",
   "execution_count": 1,
   "metadata": {
    "collapsed": false
   },
   "outputs": [
    {
     "name": "stdout",
     "output_type": "stream",
     "text": [
      "<matplotlib.figure.Figure at 0x117e74208>"
     ]
    },
    {
     "data": {
      "image/png": "[encoded data removed]",
      "text/plain": [
       "<matplotlib.figure.Figure>"
      ]
     },
     "metadata": {},
     "output_type": "display_data"
    }
   ],
   "source": [
    "df_female = df_25_70[df_25_70['target'].isin(['25V','70V'])]\n",
    "\n",
    "y_f = df_female.target\n",
    "\n",
    "subset_care_categories = ['physiotherapy', 'obstetrics', 'geriatrics', 'pharmaceuticals']\n",
    "X_f = df_female[subset_care_categories]\n",
    "\n",
    "scatter_matrix(\n",
    "    X_f,  # drop the none feature columns\n",
    "    figsize=(12, 12),                                             # square figuresize for the matrix\n",
    "    alpha=0.5,                                                    # alpha of 0.5 to see overlapping dots\n",
    "    s=50,                                                         # fixed size of 50\n",
    "    c=[plt.cm.get_cmap('rainbow', 4)(idx) for idx in df_female['target'].cat.codes],\n",
    "    diagonal='kde');                                              # diagonal line are feature distributions"
   ]
  },
  {
   "cell_type": "markdown",
   "metadata": {},
   "source": [
    "---\n",
    "\n",
    "**Exercise**\n",
    "\n",
    "Use the $k$-neighbors method from above on the data $X_f,y_f$. That is, split the data into test and training sets, fit the model on the training data and then show that on the test data you get a score close to 100%.\n",
    "\n"
   ]
  },
  {
   "cell_type": "code",
   "execution_count": 1,
   "metadata": {
    "collapsed": true
   },
   "outputs": [],
   "source": []
  },
  {
   "cell_type": "markdown",
   "metadata": {},
   "source": [
    "---\n",
    "\n"
   ]
  }
 ],
 "metadata": {
  "kernelspec": {
   "display_name": "Python [default]",
   "language": "python",
   "name": "python3"
  },
  "language_info": {
   "codemirror_mode": {
    "name": "ipython",
    "version": 3
   },
   "file_extension": ".py",
   "mimetype": "text/x-python",
   "name": "python",
   "nbconvert_exporter": "python",
   "pygments_lexer": "ipython3",
   "version": "3.5.2"
  },
  "org": null
 },
 "nbformat": 4,
 "nbformat_minor": 0
}

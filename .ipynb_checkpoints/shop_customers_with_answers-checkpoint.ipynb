{
 "cells": [
  {
   "cell_type": "markdown",
   "metadata": {
    "deletable": true,
    "editable": true
   },
   "source": [
    "# Predicting the number of your customers\n",
    "\n",
    "## Introduction\n",
    "\n",
    "Suppose you have a shop. Every month you count the total number of your customers who bought from your shop. To simplify, we think of people buying one unit from your shop or nothing. \n",
    "\n",
    "\n",
    "Your customers are of two types:\n",
    "* some are \"returning\" customers (i.e. they also bought last month) and \n",
    "* the others are new (did not buy last month)\n",
    "\n",
    "So we will not worry about customers who, say, bought two months ago but not last month.\n",
    "\n",
    "In this notebook, we first generate the data ourselves (so that you fully understand the structure of the data) and then we analyze this data.\n",
    "\n",
    "## Importing libraries\n",
    "\n",
    "We first import the libraries that we need."
   ]
  },
  {
   "cell_type": "code",
   "execution_count": 1,
   "metadata": {
    "collapsed": true,
    "deletable": true,
    "editable": true
   },
   "outputs": [],
   "source": [
    "import datetime\n",
    "import matplotlib.pyplot as plt\n",
    "import pandas as pd\n",
    "import numpy as np\n",
    "%matplotlib inline"
   ]
  },
  {
   "cell_type": "markdown",
   "metadata": {
    "deletable": true,
    "editable": true
   },
   "source": [
    "## Model\n",
    "\n",
    "We will generate the data with the following model.\n",
    "\n",
    "Let $x_t$ denote the logarithm of the number of customers in period $t$. We assume that $x_t$ evolves over time as follows:\n",
    "\n",
    "$$\n",
    "x_t = \\rho x_{t-1} + u_t\n",
    "$$\n",
    "\n",
    "where $u_t$ is normally distributed with mean $\\mu_u \\geq 0$ and standard deviation $\\sigma_u \\geq 0$ and $\\rho \\in [0,1]$. Hence, there is a fraction $\\rho$ of previous period customers that return to buy this period and there is an inflow $u_t$ of new customers in period $t$.\n",
    "\n",
    "\n",
    "-------------\n",
    "\n",
    "**Exercise**\n",
    "\n",
    "What is an advantage of defining $x_t$ as the logarithm of the number of customers? [hint: what would you need to \"worry\" about if $x_t$ denotes the number of customers?]\n",
    "\n",
    "--------------"
   ]
  },
  {
   "cell_type": "markdown",
   "metadata": {
    "deletable": true,
    "editable": true
   },
   "source": [
    "We assume that both $\\mu$ and $\\rho$ are a function of the price that is charged. If you charge a high price, fewer customers will return and also the inflow of new customers will be lower.\n",
    "\n",
    "We generate data for 24 months. The code below starts from today and generates dates with a Monthly frequency. We define how $\\rho$ and $\\mu$ depend on the price $p$ that the shop charges in a period.\n",
    "\n",
    "Finally, we create a pandas dataframe `df_customers` with this data. "
   ]
  },
  {
   "cell_type": "code",
   "execution_count": 2,
   "metadata": {
    "collapsed": false,
    "deletable": true,
    "editable": true
   },
   "outputs": [],
   "source": [
    "number_of_periods = 24\n",
    "todays_date = datetime.datetime.now().date()\n",
    "index = pd.date_range(todays_date-datetime.timedelta(31*number_of_periods), periods=number_of_periods, freq='M')\n",
    "columns = ['log number of customers']\n",
    "\n",
    "def mu(m,p):\n",
    "    return m*(1-p)\n",
    "\n",
    "def rho(r,p):\n",
    "    return r*(1-p)\n",
    "\n",
    "sigma = 1.0\n",
    "\n",
    "p_0 = [0.2]\n",
    "p_1 = [0.6]\n",
    "period_0 = 18\n",
    "period_1 = number_of_periods+1-period_0\n",
    "vector_p = period_0*p_0 + period_1*p_1\n",
    "\n",
    "x_0 = 10\n",
    "x = []\n",
    "x.append(x_0)\n",
    "for t in range(1,number_of_periods+1):\n",
    "    u = np.random.normal(mu(2,vector_p[t]), sigma)\n",
    "    x.append(rho(0.5,vector_p[t])*x[t-1]+u)\n",
    "    \n",
    "df_customers = pd.DataFrame(x[1:], index=index, columns=columns)"
   ]
  },
  {
   "cell_type": "code",
   "execution_count": 3,
   "metadata": {
    "collapsed": false,
    "deletable": true,
    "editable": true
   },
   "outputs": [
    {
     "data": {
      "text/html": [
       "<div>\n",
       "<table border=\"1\" class=\"dataframe\">\n",
       "  <thead>\n",
       "    <tr style=\"text-align: right;\">\n",
       "      <th></th>\n",
       "      <th>log number of customers</th>\n",
       "    </tr>\n",
       "  </thead>\n",
       "  <tbody>\n",
       "    <tr>\n",
       "      <th>2015-09-30</th>\n",
       "      <td>5.648399</td>\n",
       "    </tr>\n",
       "    <tr>\n",
       "      <th>2015-10-31</th>\n",
       "      <td>4.695292</td>\n",
       "    </tr>\n",
       "    <tr>\n",
       "      <th>2015-11-30</th>\n",
       "      <td>3.691070</td>\n",
       "    </tr>\n",
       "    <tr>\n",
       "      <th>2015-12-31</th>\n",
       "      <td>3.944098</td>\n",
       "    </tr>\n",
       "    <tr>\n",
       "      <th>2016-01-31</th>\n",
       "      <td>2.621050</td>\n",
       "    </tr>\n",
       "  </tbody>\n",
       "</table>\n",
       "</div>"
      ],
      "text/plain": [
       "            log number of customers\n",
       "2015-09-30                 5.648399\n",
       "2015-10-31                 4.695292\n",
       "2015-11-30                 3.691070\n",
       "2015-12-31                 3.944098\n",
       "2016-01-31                 2.621050"
      ]
     },
     "execution_count": 3,
     "metadata": {},
     "output_type": "execute_result"
    }
   ],
   "source": [
    "df_customers.head()"
   ]
  },
  {
   "cell_type": "markdown",
   "metadata": {
    "deletable": true,
    "editable": true
   },
   "source": [
    "-----------\n",
    "\n",
    "**Exercise**\n",
    "\n",
    "Calculate the number of customers in each of the periods. Denote this column 'number of customers'. [hint: check the datacamp course on pandas or google \"python pandas add column\" to see how to add a new column in a dataframe; you may also want to check numpy's `exp` function]\n",
    "\n",
    "-----------"
   ]
  },
  {
   "cell_type": "code",
   "execution_count": 6,
   "metadata": {
    "collapsed": true,
    "deletable": true,
    "editable": true
   },
   "outputs": [],
   "source": [
    "# answer\n",
    "\n",
    "df_customers['number of customers'] = np.exp(df_customers['log number of customers'])"
   ]
  },
  {
   "cell_type": "markdown",
   "metadata": {
    "deletable": true,
    "editable": true
   },
   "source": [
    "-----------\n",
    "\n",
    "**Exercise**\n",
    "\n",
    "Calculate the average number of customers over the period of 24 months. [hint: check the datacamp course on pandas or google \"python pandas average\" to see how to calculate an average in a dataframe]\n",
    "\n",
    "-----------"
   ]
  },
  {
   "cell_type": "code",
   "execution_count": 7,
   "metadata": {
    "collapsed": false,
    "deletable": true,
    "editable": true
   },
   "outputs": [
    {
     "data": {
      "text/plain": [
       "41.8435816275576"
      ]
     },
     "execution_count": 7,
     "metadata": {},
     "output_type": "execute_result"
    }
   ],
   "source": [
    "# answer\n",
    "\n",
    "df_customers['number of customers'].mean()"
   ]
  },
  {
   "cell_type": "markdown",
   "metadata": {
    "collapsed": false,
    "deletable": true,
    "editable": true
   },
   "source": [
    "-----------\n",
    "\n",
    "**Exercise**\n",
    "\n",
    "Calculate the median number of customers over the period of 24 months.\n",
    "\n",
    "-----------"
   ]
  },
  {
   "cell_type": "code",
   "execution_count": 8,
   "metadata": {
    "collapsed": false,
    "deletable": true,
    "editable": true
   },
   "outputs": [
    {
     "data": {
      "text/plain": [
       "20.463605397001412"
      ]
     },
     "execution_count": 8,
     "metadata": {},
     "output_type": "execute_result"
    }
   ],
   "source": [
    "# answer\n",
    "\n",
    "df_customers['number of customers'].median()"
   ]
  },
  {
   "cell_type": "markdown",
   "metadata": {
    "deletable": true,
    "editable": true
   },
   "source": [
    "-----------\n",
    "\n",
    "**Exercise**\n",
    "\n",
    "What can you learn from the mean and the median for the number of customers next month? What do you learm from the fact that the median is lower than the mean?\n",
    "\n",
    "-----------"
   ]
  },
  {
   "cell_type": "markdown",
   "metadata": {
    "collapsed": false,
    "deletable": true,
    "editable": true
   },
   "source": [
    "Answer: you do not learn much as neither uses the time series structure of the data. As the median is below the mean, you do learn that the distribution in the number of customers is skewed."
   ]
  },
  {
   "cell_type": "markdown",
   "metadata": {
    "deletable": true,
    "editable": true
   },
   "source": [
    "The median seems a bit more pessimistic"
   ]
  },
  {
   "cell_type": "code",
   "execution_count": 17,
   "metadata": {
    "collapsed": false,
    "deletable": true,
    "editable": true
   },
   "outputs": [],
   "source": [
    "df_customers['MA_3'] = pd.rolling_mean(df_customers['number of customers'],window=3)\n",
    "df_customers['MA_6'] = pd.rolling_mean(df_customers['number of customers'],window=6)"
   ]
  },
  {
   "cell_type": "code",
   "execution_count": 21,
   "metadata": {
    "collapsed": false,
    "deletable": true,
    "editable": true
   },
   "outputs": [
    {
     "data": {
      "text/plain": [
       "<matplotlib.axes._subplots.AxesSubplot at 0x106d60d50>"
      ]
     },
     "execution_count": 21,
     "metadata": {},
     "output_type": "execute_result"
    },
    {
     "data": {
      "image/png": "[encoded data removed]",
      "text/plain": [
       "<matplotlib.figure.Figure at 0x106d60090>"
      ]
     },
     "metadata": {},
     "output_type": "display_data"
    }
   ],
   "source": [
    "df_customers[['number of customers','MA_3','MA_6']].plot()"
   ]
  },
  {
   "cell_type": "code",
   "execution_count": 19,
   "metadata": {
    "collapsed": false,
    "deletable": true,
    "editable": true
   },
   "outputs": [
    {
     "data": {
      "text/html": [
       "<div>\n",
       "<table border=\"1\" class=\"dataframe\">\n",
       "  <thead>\n",
       "    <tr style=\"text-align: right;\">\n",
       "      <th></th>\n",
       "      <th>log number of customers</th>\n",
       "      <th>number of customers</th>\n",
       "      <th>MA_3</th>\n",
       "      <th>MA_6</th>\n",
       "    </tr>\n",
       "  </thead>\n",
       "  <tbody>\n",
       "    <tr>\n",
       "      <th>2015-09-30</th>\n",
       "      <td>5.648399</td>\n",
       "      <td>283.836557</td>\n",
       "      <td>NaN</td>\n",
       "      <td>NaN</td>\n",
       "    </tr>\n",
       "    <tr>\n",
       "      <th>2015-10-31</th>\n",
       "      <td>4.695292</td>\n",
       "      <td>109.430801</td>\n",
       "      <td>NaN</td>\n",
       "      <td>NaN</td>\n",
       "    </tr>\n",
       "    <tr>\n",
       "      <th>2015-11-30</th>\n",
       "      <td>3.691070</td>\n",
       "      <td>40.087731</td>\n",
       "      <td>144.451696</td>\n",
       "      <td>NaN</td>\n",
       "    </tr>\n",
       "    <tr>\n",
       "      <th>2015-12-31</th>\n",
       "      <td>3.944098</td>\n",
       "      <td>51.629746</td>\n",
       "      <td>67.049426</td>\n",
       "      <td>NaN</td>\n",
       "    </tr>\n",
       "    <tr>\n",
       "      <th>2016-01-31</th>\n",
       "      <td>2.621050</td>\n",
       "      <td>13.750151</td>\n",
       "      <td>35.155876</td>\n",
       "      <td>NaN</td>\n",
       "    </tr>\n",
       "    <tr>\n",
       "      <th>2016-02-29</th>\n",
       "      <td>5.028775</td>\n",
       "      <td>152.745774</td>\n",
       "      <td>72.708557</td>\n",
       "      <td>108.580127</td>\n",
       "    </tr>\n",
       "    <tr>\n",
       "      <th>2016-03-31</th>\n",
       "      <td>2.722155</td>\n",
       "      <td>15.213075</td>\n",
       "      <td>60.569667</td>\n",
       "      <td>63.809546</td>\n",
       "    </tr>\n",
       "    <tr>\n",
       "      <th>2016-04-30</th>\n",
       "      <td>3.560721</td>\n",
       "      <td>35.188569</td>\n",
       "      <td>67.715806</td>\n",
       "      <td>51.435841</td>\n",
       "    </tr>\n",
       "    <tr>\n",
       "      <th>2016-05-31</th>\n",
       "      <td>4.613551</td>\n",
       "      <td>100.841572</td>\n",
       "      <td>50.414405</td>\n",
       "      <td>61.561481</td>\n",
       "    </tr>\n",
       "    <tr>\n",
       "      <th>2016-06-30</th>\n",
       "      <td>3.005827</td>\n",
       "      <td>20.202916</td>\n",
       "      <td>52.077686</td>\n",
       "      <td>56.323676</td>\n",
       "    </tr>\n",
       "    <tr>\n",
       "      <th>2016-07-31</th>\n",
       "      <td>3.070681</td>\n",
       "      <td>21.556584</td>\n",
       "      <td>47.533691</td>\n",
       "      <td>57.624748</td>\n",
       "    </tr>\n",
       "    <tr>\n",
       "      <th>2016-08-31</th>\n",
       "      <td>3.096045</td>\n",
       "      <td>22.110334</td>\n",
       "      <td>21.289945</td>\n",
       "      <td>35.852175</td>\n",
       "    </tr>\n",
       "    <tr>\n",
       "      <th>2016-09-30</th>\n",
       "      <td>3.255347</td>\n",
       "      <td>25.928619</td>\n",
       "      <td>23.198512</td>\n",
       "      <td>37.638099</td>\n",
       "    </tr>\n",
       "    <tr>\n",
       "      <th>2016-10-31</th>\n",
       "      <td>3.358473</td>\n",
       "      <td>28.745267</td>\n",
       "      <td>25.594740</td>\n",
       "      <td>36.564215</td>\n",
       "    </tr>\n",
       "    <tr>\n",
       "      <th>2016-11-30</th>\n",
       "      <td>2.469325</td>\n",
       "      <td>11.814466</td>\n",
       "      <td>22.162784</td>\n",
       "      <td>21.726364</td>\n",
       "    </tr>\n",
       "    <tr>\n",
       "      <th>2016-12-31</th>\n",
       "      <td>3.031307</td>\n",
       "      <td>20.724295</td>\n",
       "      <td>20.428009</td>\n",
       "      <td>21.813261</td>\n",
       "    </tr>\n",
       "    <tr>\n",
       "      <th>2017-01-31</th>\n",
       "      <td>2.535208</td>\n",
       "      <td>12.619061</td>\n",
       "      <td>15.052607</td>\n",
       "      <td>20.323674</td>\n",
       "    </tr>\n",
       "    <tr>\n",
       "      <th>2017-02-28</th>\n",
       "      <td>2.095648</td>\n",
       "      <td>8.130706</td>\n",
       "      <td>13.824687</td>\n",
       "      <td>17.993736</td>\n",
       "    </tr>\n",
       "    <tr>\n",
       "      <th>2017-03-31</th>\n",
       "      <td>1.959212</td>\n",
       "      <td>7.093738</td>\n",
       "      <td>9.281168</td>\n",
       "      <td>14.854589</td>\n",
       "    </tr>\n",
       "    <tr>\n",
       "      <th>2017-04-30</th>\n",
       "      <td>1.507355</td>\n",
       "      <td>4.514772</td>\n",
       "      <td>6.579739</td>\n",
       "      <td>10.816173</td>\n",
       "    </tr>\n",
       "    <tr>\n",
       "      <th>2017-05-31</th>\n",
       "      <td>2.119183</td>\n",
       "      <td>8.324330</td>\n",
       "      <td>6.644280</td>\n",
       "      <td>10.234484</td>\n",
       "    </tr>\n",
       "    <tr>\n",
       "      <th>2017-06-30</th>\n",
       "      <td>0.617146</td>\n",
       "      <td>1.853630</td>\n",
       "      <td>4.897577</td>\n",
       "      <td>7.089373</td>\n",
       "    </tr>\n",
       "    <tr>\n",
       "      <th>2017-07-31</th>\n",
       "      <td>1.871220</td>\n",
       "      <td>6.496214</td>\n",
       "      <td>5.558058</td>\n",
       "      <td>6.068898</td>\n",
       "    </tr>\n",
       "    <tr>\n",
       "      <th>2017-08-31</th>\n",
       "      <td>0.341496</td>\n",
       "      <td>1.407051</td>\n",
       "      <td>3.252298</td>\n",
       "      <td>4.948289</td>\n",
       "    </tr>\n",
       "  </tbody>\n",
       "</table>\n",
       "</div>"
      ],
      "text/plain": [
       "            log number of customers  number of customers        MA_3  \\\n",
       "2015-09-30                 5.648399           283.836557         NaN   \n",
       "2015-10-31                 4.695292           109.430801         NaN   \n",
       "2015-11-30                 3.691070            40.087731  144.451696   \n",
       "2015-12-31                 3.944098            51.629746   67.049426   \n",
       "2016-01-31                 2.621050            13.750151   35.155876   \n",
       "2016-02-29                 5.028775           152.745774   72.708557   \n",
       "2016-03-31                 2.722155            15.213075   60.569667   \n",
       "2016-04-30                 3.560721            35.188569   67.715806   \n",
       "2016-05-31                 4.613551           100.841572   50.414405   \n",
       "2016-06-30                 3.005827            20.202916   52.077686   \n",
       "2016-07-31                 3.070681            21.556584   47.533691   \n",
       "2016-08-31                 3.096045            22.110334   21.289945   \n",
       "2016-09-30                 3.255347            25.928619   23.198512   \n",
       "2016-10-31                 3.358473            28.745267   25.594740   \n",
       "2016-11-30                 2.469325            11.814466   22.162784   \n",
       "2016-12-31                 3.031307            20.724295   20.428009   \n",
       "2017-01-31                 2.535208            12.619061   15.052607   \n",
       "2017-02-28                 2.095648             8.130706   13.824687   \n",
       "2017-03-31                 1.959212             7.093738    9.281168   \n",
       "2017-04-30                 1.507355             4.514772    6.579739   \n",
       "2017-05-31                 2.119183             8.324330    6.644280   \n",
       "2017-06-30                 0.617146             1.853630    4.897577   \n",
       "2017-07-31                 1.871220             6.496214    5.558058   \n",
       "2017-08-31                 0.341496             1.407051    3.252298   \n",
       "\n",
       "                  MA_6  \n",
       "2015-09-30         NaN  \n",
       "2015-10-31         NaN  \n",
       "2015-11-30         NaN  \n",
       "2015-12-31         NaN  \n",
       "2016-01-31         NaN  \n",
       "2016-02-29  108.580127  \n",
       "2016-03-31   63.809546  \n",
       "2016-04-30   51.435841  \n",
       "2016-05-31   61.561481  \n",
       "2016-06-30   56.323676  \n",
       "2016-07-31   57.624748  \n",
       "2016-08-31   35.852175  \n",
       "2016-09-30   37.638099  \n",
       "2016-10-31   36.564215  \n",
       "2016-11-30   21.726364  \n",
       "2016-12-31   21.813261  \n",
       "2017-01-31   20.323674  \n",
       "2017-02-28   17.993736  \n",
       "2017-03-31   14.854589  \n",
       "2017-04-30   10.816173  \n",
       "2017-05-31   10.234484  \n",
       "2017-06-30    7.089373  \n",
       "2017-07-31    6.068898  \n",
       "2017-08-31    4.948289  "
      ]
     },
     "execution_count": 19,
     "metadata": {},
     "output_type": "execute_result"
    }
   ],
   "source": [
    "df_customers"
   ]
  },
  {
   "cell_type": "markdown",
   "metadata": {
    "deletable": true,
    "editable": true
   },
   "source": [
    "Add a column profits to the dataframe\n"
   ]
  },
  {
   "cell_type": "code",
   "execution_count": 22,
   "metadata": {
    "collapsed": true,
    "deletable": true,
    "editable": true
   },
   "outputs": [],
   "source": [
    "df_customers['price'] = vector_p[1:]"
   ]
  },
  {
   "cell_type": "code",
   "execution_count": 24,
   "metadata": {
    "collapsed": false,
    "deletable": true,
    "editable": true
   },
   "outputs": [
    {
     "data": {
      "text/html": [
       "<div>\n",
       "<table border=\"1\" class=\"dataframe\">\n",
       "  <thead>\n",
       "    <tr style=\"text-align: right;\">\n",
       "      <th></th>\n",
       "      <th>log number of customers</th>\n",
       "      <th>number of customers</th>\n",
       "      <th>MA_3</th>\n",
       "      <th>MA_6</th>\n",
       "      <th>price</th>\n",
       "    </tr>\n",
       "  </thead>\n",
       "  <tbody>\n",
       "    <tr>\n",
       "      <th>2015-09-30</th>\n",
       "      <td>5.648399</td>\n",
       "      <td>283.836557</td>\n",
       "      <td>NaN</td>\n",
       "      <td>NaN</td>\n",
       "      <td>0.2</td>\n",
       "    </tr>\n",
       "    <tr>\n",
       "      <th>2015-10-31</th>\n",
       "      <td>4.695292</td>\n",
       "      <td>109.430801</td>\n",
       "      <td>NaN</td>\n",
       "      <td>NaN</td>\n",
       "      <td>0.2</td>\n",
       "    </tr>\n",
       "    <tr>\n",
       "      <th>2015-11-30</th>\n",
       "      <td>3.691070</td>\n",
       "      <td>40.087731</td>\n",
       "      <td>144.451696</td>\n",
       "      <td>NaN</td>\n",
       "      <td>0.2</td>\n",
       "    </tr>\n",
       "    <tr>\n",
       "      <th>2015-12-31</th>\n",
       "      <td>3.944098</td>\n",
       "      <td>51.629746</td>\n",
       "      <td>67.049426</td>\n",
       "      <td>NaN</td>\n",
       "      <td>0.2</td>\n",
       "    </tr>\n",
       "    <tr>\n",
       "      <th>2016-01-31</th>\n",
       "      <td>2.621050</td>\n",
       "      <td>13.750151</td>\n",
       "      <td>35.155876</td>\n",
       "      <td>NaN</td>\n",
       "      <td>0.2</td>\n",
       "    </tr>\n",
       "  </tbody>\n",
       "</table>\n",
       "</div>"
      ],
      "text/plain": [
       "            log number of customers  number of customers        MA_3  MA_6  \\\n",
       "2015-09-30                 5.648399           283.836557         NaN   NaN   \n",
       "2015-10-31                 4.695292           109.430801         NaN   NaN   \n",
       "2015-11-30                 3.691070            40.087731  144.451696   NaN   \n",
       "2015-12-31                 3.944098            51.629746   67.049426   NaN   \n",
       "2016-01-31                 2.621050            13.750151   35.155876   NaN   \n",
       "\n",
       "            price  \n",
       "2015-09-30    0.2  \n",
       "2015-10-31    0.2  \n",
       "2015-11-30    0.2  \n",
       "2015-12-31    0.2  \n",
       "2016-01-31    0.2  "
      ]
     },
     "execution_count": 24,
     "metadata": {},
     "output_type": "execute_result"
    }
   ],
   "source": [
    "df_customers.head()\n"
   ]
  },
  {
   "cell_type": "markdown",
   "metadata": {
    "deletable": true,
    "editable": true
   },
   "source": [
    "assume that your costs equal 0.1; calculate profits\n"
   ]
  },
  {
   "cell_type": "code",
   "execution_count": 24,
   "metadata": {
    "collapsed": true,
    "deletable": true,
    "editable": true
   },
   "outputs": [],
   "source": [
    "costs = 0.1\n",
    "df_customers['profits'] = (df_customers['price']-costs)*df_customers['number of customers']"
   ]
  },
  {
   "cell_type": "code",
   "execution_count": 31,
   "metadata": {
    "collapsed": false,
    "deletable": true,
    "editable": true
   },
   "outputs": [
    {
     "data": {
      "image/png": "[encoded data removed]",
      "text/plain": [
       "<matplotlib.figure.Figure at 0x1124b3400>"
      ]
     },
     "metadata": {},
     "output_type": "display_data"
    }
   ],
   "source": [
    "plt.scatter(df_customers['log number of customers'],df_customers['profits'])\n",
    "plt.show()"
   ]
  },
  {
   "cell_type": "code",
   "execution_count": 15,
   "metadata": {
    "collapsed": false,
    "deletable": true,
    "editable": true
   },
   "outputs": [
    {
     "data": {
      "text/plain": [
       "u'0.17.0'"
      ]
     },
     "execution_count": 15,
     "metadata": {},
     "output_type": "execute_result"
    }
   ],
   "source": [
    "pd.__version__"
   ]
  },
  {
   "cell_type": "code",
   "execution_count": null,
   "metadata": {
    "collapsed": true
   },
   "outputs": [],
   "source": []
  }
 ],
 "metadata": {
  "kernelspec": {
   "display_name": "Python 2",
   "language": "python",
   "name": "python2"
  },
  "language_info": {
   "codemirror_mode": {
    "name": "ipython",
    "version": 2
   },
   "file_extension": ".py",
   "mimetype": "text/x-python",
   "name": "python",
   "nbconvert_exporter": "python",
   "pygments_lexer": "ipython2",
   "version": "2.7.12"
  }
 },
 "nbformat": 4,
 "nbformat_minor": 2
}

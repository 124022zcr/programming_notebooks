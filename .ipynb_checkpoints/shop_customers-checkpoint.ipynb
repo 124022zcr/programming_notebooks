{
 "cells": [
  {
   "cell_type": "markdown",
   "metadata": {},
   "source": [
    "# Predicting the number of your customers\n",
    "\n",
    "## Introduction\n",
    "\n",
    "Suppose you have a shop. Every month you count the total number of your customers who bought from your shop. To simplify, we think of people buying one unit from your shop or nothing. \n",
    "\n",
    "\n",
    "Your customers are of two types:\n",
    "* some are \"returning\" customers (i.e. they also bought last month) and \n",
    "* the others are new (did not buy last month)\n",
    "\n",
    "So we will not worry about customers who, say, bought two months ago but not last month.\n",
    "\n",
    "In this notebook, we first generate the data ourselves (so that you fully understand the structure of the data) and then we analyze this data.\n",
    "\n",
    "## Importing libraries\n",
    "\n",
    "We first import the libraries that we need."
   ]
  },
  {
   "cell_type": "code",
   "execution_count": 27,
   "metadata": {
    "collapsed": true
   },
   "outputs": [],
   "source": [
    "import datetime\n",
    "import matplotlib.pyplot as plt\n",
    "import pandas as pd\n",
    "import numpy as np\n",
    "%matplotlib inline"
   ]
  },
  {
   "cell_type": "markdown",
   "metadata": {},
   "source": [
    "## Model\n",
    "\n",
    "We will generate the data with the following model.\n",
    "\n",
    "Let $x_t$ denote the logarithm of the number of customers in period $t$. We assume that $x_t$ evolves over time as follows:\n",
    "\n",
    "$$\n",
    "x_t = \\rho x_{t-1} + u_t\n",
    "$$\n",
    "\n",
    "where $u_t$ is normally distributed with mean $\\mu_u$ and standard deviation $\\sigma_u$ and $\\rho \\in [0,1]$. Hence, there is a fraction $\\rho$ of previous period customers that return to buy this period and there is an inflow $u_t$ of new customers in period $t$.\n",
    "\n",
    "\n",
    "-------------\n",
    "\n",
    "**Exercise**\n",
    "\n",
    "What is an advantage of defining $x_t$ as the logarithm of the number of customers? [hint: what would you need to \"worry\" about if $x_t$ denotes the number of customers?]\n",
    "\n",
    "--------------\n",
    "\n",
    "We assume that both $\\mu$ and $\\rho$ are a function of the price that is charged. If you charge a high price, fewer customers will return and also the inflow of new customers will be lower.\n",
    "\n",
    "We generate data for 24 months. The code below starts from today and generates dates with a Monthly frequency. We define how $\\rho$ and $\\mu$ depend on the price $p$ that the shop charges in a period.\n",
    "\n",
    "Finally, we create a pandas dataframe `df_customers` with this data. \n"
   ]
  },
  {
   "cell_type": "code",
   "execution_count": 6,
   "metadata": {
    "collapsed": false
   },
   "outputs": [],
   "source": [
    "number_of_periods = 24\n",
    "todays_date = datetime.datetime.now().date()\n",
    "index = pd.date_range(todays_date-datetime.timedelta(31*number_of_periods), periods=number_of_periods, freq='M')\n",
    "columns = ['log number of customers']\n",
    "\n",
    "def mu(m,p):\n",
    "    return m*(1-p)\n",
    "\n",
    "def rho(r,p):\n",
    "    return r*(1-p)\n",
    "\n",
    "sigma = 1.0\n",
    "\n",
    "p_0 = [0.2]\n",
    "p_1 = [0.6]\n",
    "period_0 = 18\n",
    "period_1 = number_of_periods+1-period_0\n",
    "vector_p = period_0*p_0 + period_1*p_1\n",
    "\n",
    "x_0 = 10\n",
    "x = []\n",
    "x.append(x_0)\n",
    "for t in range(1,number_of_periods+1):\n",
    "    u = np.random.normal(mu(2,vector_p[t]), sigma)\n",
    "    x.append(rho(0.5,vector_p[t])*x[t-1]+u)\n",
    "    \n",
    "df_customers = pd.DataFrame(x[1:], index=index, columns=columns)"
   ]
  },
  {
   "cell_type": "markdown",
   "metadata": {},
   "source": [
    "-----------\n",
    "\n",
    "**Exercise**\n",
    "\n",
    "Calculate the average number of customers over the period of 24 months. [hint: check the datacamp course on pandas or google \"python pandas average\" to see how to calculate an average in a dataframe]\n",
    "\n",
    "-----------"
   ]
  },
  {
   "cell_type": "code",
   "execution_count": 19,
   "metadata": {
    "collapsed": false
   },
   "outputs": [
    {
     "data": {
      "text/plain": [
       "25"
      ]
     },
     "execution_count": 19,
     "metadata": {},
     "output_type": "execute_result"
    }
   ],
   "source": [
    "len(vector_p)"
   ]
  },
  {
   "cell_type": "code",
   "execution_count": 20,
   "metadata": {
    "collapsed": false
   },
   "outputs": [],
   "source": [
    "df_customers['price'] = vector_p[1:]"
   ]
  },
  {
   "cell_type": "code",
   "execution_count": 10,
   "metadata": {
    "collapsed": false
   },
   "outputs": [
    {
     "data": {
      "text/plain": [
       "16.536399593664633"
      ]
     },
     "execution_count": 10,
     "metadata": {},
     "output_type": "execute_result"
    }
   ],
   "source": [
    "np.exp(df_customers['log number of customers'].mean())"
   ]
  },
  {
   "cell_type": "markdown",
   "metadata": {},
   "source": [
    "On the basis of the mean, you might conclude that you should expect around 0.2 customers on average"
   ]
  },
  {
   "cell_type": "code",
   "execution_count": 12,
   "metadata": {
    "collapsed": false
   },
   "outputs": [
    {
     "data": {
      "text/plain": [
       "15.785245434937341"
      ]
     },
     "execution_count": 12,
     "metadata": {},
     "output_type": "execute_result"
    }
   ],
   "source": [
    "np.exp(df_customers['log number of customers'].median())"
   ]
  },
  {
   "cell_type": "markdown",
   "metadata": {},
   "source": []
  },
  {
   "cell_type": "markdown",
   "metadata": {},
   "source": [
    "The median seems a bit more pessimistic"
   ]
  },
  {
   "cell_type": "code",
   "execution_count": 14,
   "metadata": {
    "collapsed": false
   },
   "outputs": [],
   "source": [
    "df_customers['MA_3'] = df_customers['log number of customers'].rolling(window=3).mean()\n",
    "df_customers['MA_6'] = df_customers['log number of customers'].rolling(window=6).mean()"
   ]
  },
  {
   "cell_type": "code",
   "execution_count": 21,
   "metadata": {
    "collapsed": false
   },
   "outputs": [
    {
     "data": {
      "text/plain": [
       "<matplotlib.axes._subplots.AxesSubplot at 0x111decfd0>"
      ]
     },
     "execution_count": 21,
     "metadata": {},
     "output_type": "execute_result"
    },
    {
     "data": {
      "image/png": "[encoded data removed]",
      "text/plain": [
       "<matplotlib.figure.Figure at 0x111d7e4a8>"
      ]
     },
     "metadata": {},
     "output_type": "display_data"
    }
   ],
   "source": [
    "df_customers.plot()"
   ]
  },
  {
   "cell_type": "code",
   "execution_count": 16,
   "metadata": {
    "collapsed": false
   },
   "outputs": [
    {
     "data": {
      "text/html": [
       "<div>\n",
       "<table border=\"1\" class=\"dataframe\">\n",
       "  <thead>\n",
       "    <tr style=\"text-align: right;\">\n",
       "      <th></th>\n",
       "      <th>log number of customers</th>\n",
       "      <th>MA_3</th>\n",
       "      <th>MA_6</th>\n",
       "    </tr>\n",
       "  </thead>\n",
       "  <tbody>\n",
       "    <tr>\n",
       "      <th>2015-09-30</th>\n",
       "      <td>6.534853</td>\n",
       "      <td>NaN</td>\n",
       "      <td>NaN</td>\n",
       "    </tr>\n",
       "    <tr>\n",
       "      <th>2015-10-31</th>\n",
       "      <td>5.171559</td>\n",
       "      <td>NaN</td>\n",
       "      <td>NaN</td>\n",
       "    </tr>\n",
       "    <tr>\n",
       "      <th>2015-11-30</th>\n",
       "      <td>5.104127</td>\n",
       "      <td>5.603513</td>\n",
       "      <td>NaN</td>\n",
       "    </tr>\n",
       "    <tr>\n",
       "      <th>2015-12-31</th>\n",
       "      <td>3.451181</td>\n",
       "      <td>4.575622</td>\n",
       "      <td>NaN</td>\n",
       "    </tr>\n",
       "    <tr>\n",
       "      <th>2016-01-31</th>\n",
       "      <td>1.725287</td>\n",
       "      <td>3.426865</td>\n",
       "      <td>NaN</td>\n",
       "    </tr>\n",
       "    <tr>\n",
       "      <th>2016-02-29</th>\n",
       "      <td>1.662627</td>\n",
       "      <td>2.279698</td>\n",
       "      <td>3.941606</td>\n",
       "    </tr>\n",
       "    <tr>\n",
       "      <th>2016-03-31</th>\n",
       "      <td>3.142306</td>\n",
       "      <td>2.176740</td>\n",
       "      <td>3.376181</td>\n",
       "    </tr>\n",
       "    <tr>\n",
       "      <th>2016-04-30</th>\n",
       "      <td>2.894452</td>\n",
       "      <td>2.566462</td>\n",
       "      <td>2.996663</td>\n",
       "    </tr>\n",
       "    <tr>\n",
       "      <th>2016-05-31</th>\n",
       "      <td>1.782804</td>\n",
       "      <td>2.606521</td>\n",
       "      <td>2.443110</td>\n",
       "    </tr>\n",
       "    <tr>\n",
       "      <th>2016-06-30</th>\n",
       "      <td>1.356369</td>\n",
       "      <td>2.011208</td>\n",
       "      <td>2.093974</td>\n",
       "    </tr>\n",
       "    <tr>\n",
       "      <th>2016-07-31</th>\n",
       "      <td>1.669538</td>\n",
       "      <td>1.602904</td>\n",
       "      <td>2.084683</td>\n",
       "    </tr>\n",
       "    <tr>\n",
       "      <th>2016-08-31</th>\n",
       "      <td>2.767191</td>\n",
       "      <td>1.931033</td>\n",
       "      <td>2.268777</td>\n",
       "    </tr>\n",
       "    <tr>\n",
       "      <th>2016-09-30</th>\n",
       "      <td>5.815627</td>\n",
       "      <td>3.417452</td>\n",
       "      <td>2.714330</td>\n",
       "    </tr>\n",
       "    <tr>\n",
       "      <th>2016-10-31</th>\n",
       "      <td>3.454056</td>\n",
       "      <td>4.012291</td>\n",
       "      <td>2.807597</td>\n",
       "    </tr>\n",
       "    <tr>\n",
       "      <th>2016-11-30</th>\n",
       "      <td>2.811831</td>\n",
       "      <td>4.027171</td>\n",
       "      <td>2.979102</td>\n",
       "    </tr>\n",
       "    <tr>\n",
       "      <th>2016-12-31</th>\n",
       "      <td>3.668017</td>\n",
       "      <td>3.311301</td>\n",
       "      <td>3.364377</td>\n",
       "    </tr>\n",
       "    <tr>\n",
       "      <th>2017-01-31</th>\n",
       "      <td>3.393862</td>\n",
       "      <td>3.291237</td>\n",
       "      <td>3.651764</td>\n",
       "    </tr>\n",
       "    <tr>\n",
       "      <th>2017-02-28</th>\n",
       "      <td>2.750960</td>\n",
       "      <td>3.270946</td>\n",
       "      <td>3.649059</td>\n",
       "    </tr>\n",
       "    <tr>\n",
       "      <th>2017-03-31</th>\n",
       "      <td>1.252203</td>\n",
       "      <td>2.465675</td>\n",
       "      <td>2.888488</td>\n",
       "    </tr>\n",
       "    <tr>\n",
       "      <th>2017-04-30</th>\n",
       "      <td>1.714476</td>\n",
       "      <td>1.905880</td>\n",
       "      <td>2.598558</td>\n",
       "    </tr>\n",
       "    <tr>\n",
       "      <th>2017-05-31</th>\n",
       "      <td>0.431298</td>\n",
       "      <td>1.132659</td>\n",
       "      <td>2.201803</td>\n",
       "    </tr>\n",
       "    <tr>\n",
       "      <th>2017-06-30</th>\n",
       "      <td>2.065741</td>\n",
       "      <td>1.403839</td>\n",
       "      <td>1.934757</td>\n",
       "    </tr>\n",
       "    <tr>\n",
       "      <th>2017-07-31</th>\n",
       "      <td>1.724539</td>\n",
       "      <td>1.407193</td>\n",
       "      <td>1.656536</td>\n",
       "    </tr>\n",
       "    <tr>\n",
       "      <th>2017-08-31</th>\n",
       "      <td>0.988631</td>\n",
       "      <td>1.592970</td>\n",
       "      <td>1.362815</td>\n",
       "    </tr>\n",
       "  </tbody>\n",
       "</table>\n",
       "</div>"
      ],
      "text/plain": [
       "            log number of customers      MA_3      MA_6\n",
       "2015-09-30                 6.534853       NaN       NaN\n",
       "2015-10-31                 5.171559       NaN       NaN\n",
       "2015-11-30                 5.104127  5.603513       NaN\n",
       "2015-12-31                 3.451181  4.575622       NaN\n",
       "2016-01-31                 1.725287  3.426865       NaN\n",
       "2016-02-29                 1.662627  2.279698  3.941606\n",
       "2016-03-31                 3.142306  2.176740  3.376181\n",
       "2016-04-30                 2.894452  2.566462  2.996663\n",
       "2016-05-31                 1.782804  2.606521  2.443110\n",
       "2016-06-30                 1.356369  2.011208  2.093974\n",
       "2016-07-31                 1.669538  1.602904  2.084683\n",
       "2016-08-31                 2.767191  1.931033  2.268777\n",
       "2016-09-30                 5.815627  3.417452  2.714330\n",
       "2016-10-31                 3.454056  4.012291  2.807597\n",
       "2016-11-30                 2.811831  4.027171  2.979102\n",
       "2016-12-31                 3.668017  3.311301  3.364377\n",
       "2017-01-31                 3.393862  3.291237  3.651764\n",
       "2017-02-28                 2.750960  3.270946  3.649059\n",
       "2017-03-31                 1.252203  2.465675  2.888488\n",
       "2017-04-30                 1.714476  1.905880  2.598558\n",
       "2017-05-31                 0.431298  1.132659  2.201803\n",
       "2017-06-30                 2.065741  1.403839  1.934757\n",
       "2017-07-31                 1.724539  1.407193  1.656536\n",
       "2017-08-31                 0.988631  1.592970  1.362815"
      ]
     },
     "execution_count": 16,
     "metadata": {},
     "output_type": "execute_result"
    }
   ],
   "source": [
    "df_customers"
   ]
  },
  {
   "cell_type": "markdown",
   "metadata": {},
   "source": [
    "Add a column profits to the dataframe\n"
   ]
  },
  {
   "cell_type": "code",
   "execution_count": 22,
   "metadata": {
    "collapsed": true
   },
   "outputs": [],
   "source": [
    "df_customers['number of customers'] = np.exp(df_customers['log number of customers'])"
   ]
  },
  {
   "cell_type": "code",
   "execution_count": 25,
   "metadata": {
    "collapsed": false
   },
   "outputs": [
    {
     "data": {
      "text/html": [
       "<div>\n",
       "<table border=\"1\" class=\"dataframe\">\n",
       "  <thead>\n",
       "    <tr style=\"text-align: right;\">\n",
       "      <th></th>\n",
       "      <th>log number of customers</th>\n",
       "      <th>MA_3</th>\n",
       "      <th>MA_6</th>\n",
       "      <th>price</th>\n",
       "      <th>number of customers</th>\n",
       "      <th>profits</th>\n",
       "    </tr>\n",
       "  </thead>\n",
       "  <tbody>\n",
       "    <tr>\n",
       "      <th>2015-09-30</th>\n",
       "      <td>6.534853</td>\n",
       "      <td>NaN</td>\n",
       "      <td>NaN</td>\n",
       "      <td>0.2</td>\n",
       "      <td>688.732584</td>\n",
       "      <td>68.873258</td>\n",
       "    </tr>\n",
       "    <tr>\n",
       "      <th>2015-10-31</th>\n",
       "      <td>5.171559</td>\n",
       "      <td>NaN</td>\n",
       "      <td>NaN</td>\n",
       "      <td>0.2</td>\n",
       "      <td>176.189223</td>\n",
       "      <td>17.618922</td>\n",
       "    </tr>\n",
       "    <tr>\n",
       "      <th>2015-11-30</th>\n",
       "      <td>5.104127</td>\n",
       "      <td>5.603513</td>\n",
       "      <td>NaN</td>\n",
       "      <td>0.2</td>\n",
       "      <td>164.700190</td>\n",
       "      <td>16.470019</td>\n",
       "    </tr>\n",
       "    <tr>\n",
       "      <th>2015-12-31</th>\n",
       "      <td>3.451181</td>\n",
       "      <td>4.575622</td>\n",
       "      <td>NaN</td>\n",
       "      <td>0.2</td>\n",
       "      <td>31.537621</td>\n",
       "      <td>3.153762</td>\n",
       "    </tr>\n",
       "    <tr>\n",
       "      <th>2016-01-31</th>\n",
       "      <td>1.725287</td>\n",
       "      <td>3.426865</td>\n",
       "      <td>NaN</td>\n",
       "      <td>0.2</td>\n",
       "      <td>5.614131</td>\n",
       "      <td>0.561413</td>\n",
       "    </tr>\n",
       "    <tr>\n",
       "      <th>2016-02-29</th>\n",
       "      <td>1.662627</td>\n",
       "      <td>2.279698</td>\n",
       "      <td>3.941606</td>\n",
       "      <td>0.2</td>\n",
       "      <td>5.273145</td>\n",
       "      <td>0.527314</td>\n",
       "    </tr>\n",
       "    <tr>\n",
       "      <th>2016-03-31</th>\n",
       "      <td>3.142306</td>\n",
       "      <td>2.176740</td>\n",
       "      <td>3.376181</td>\n",
       "      <td>0.2</td>\n",
       "      <td>23.157215</td>\n",
       "      <td>2.315722</td>\n",
       "    </tr>\n",
       "    <tr>\n",
       "      <th>2016-04-30</th>\n",
       "      <td>2.894452</td>\n",
       "      <td>2.566462</td>\n",
       "      <td>2.996663</td>\n",
       "      <td>0.2</td>\n",
       "      <td>18.073597</td>\n",
       "      <td>1.807360</td>\n",
       "    </tr>\n",
       "    <tr>\n",
       "      <th>2016-05-31</th>\n",
       "      <td>1.782804</td>\n",
       "      <td>2.606521</td>\n",
       "      <td>2.443110</td>\n",
       "      <td>0.2</td>\n",
       "      <td>5.946507</td>\n",
       "      <td>0.594651</td>\n",
       "    </tr>\n",
       "    <tr>\n",
       "      <th>2016-06-30</th>\n",
       "      <td>1.356369</td>\n",
       "      <td>2.011208</td>\n",
       "      <td>2.093974</td>\n",
       "      <td>0.2</td>\n",
       "      <td>3.882070</td>\n",
       "      <td>0.388207</td>\n",
       "    </tr>\n",
       "    <tr>\n",
       "      <th>2016-07-31</th>\n",
       "      <td>1.669538</td>\n",
       "      <td>1.602904</td>\n",
       "      <td>2.084683</td>\n",
       "      <td>0.2</td>\n",
       "      <td>5.309716</td>\n",
       "      <td>0.530972</td>\n",
       "    </tr>\n",
       "    <tr>\n",
       "      <th>2016-08-31</th>\n",
       "      <td>2.767191</td>\n",
       "      <td>1.931033</td>\n",
       "      <td>2.268777</td>\n",
       "      <td>0.2</td>\n",
       "      <td>15.913877</td>\n",
       "      <td>1.591388</td>\n",
       "    </tr>\n",
       "    <tr>\n",
       "      <th>2016-09-30</th>\n",
       "      <td>5.815627</td>\n",
       "      <td>3.417452</td>\n",
       "      <td>2.714330</td>\n",
       "      <td>0.2</td>\n",
       "      <td>335.501569</td>\n",
       "      <td>33.550157</td>\n",
       "    </tr>\n",
       "    <tr>\n",
       "      <th>2016-10-31</th>\n",
       "      <td>3.454056</td>\n",
       "      <td>4.012291</td>\n",
       "      <td>2.807597</td>\n",
       "      <td>0.2</td>\n",
       "      <td>31.628412</td>\n",
       "      <td>3.162841</td>\n",
       "    </tr>\n",
       "    <tr>\n",
       "      <th>2016-11-30</th>\n",
       "      <td>2.811831</td>\n",
       "      <td>4.027171</td>\n",
       "      <td>2.979102</td>\n",
       "      <td>0.2</td>\n",
       "      <td>16.640365</td>\n",
       "      <td>1.664037</td>\n",
       "    </tr>\n",
       "    <tr>\n",
       "      <th>2016-12-31</th>\n",
       "      <td>3.668017</td>\n",
       "      <td>3.311301</td>\n",
       "      <td>3.364377</td>\n",
       "      <td>0.2</td>\n",
       "      <td>39.174138</td>\n",
       "      <td>3.917414</td>\n",
       "    </tr>\n",
       "    <tr>\n",
       "      <th>2017-01-31</th>\n",
       "      <td>3.393862</td>\n",
       "      <td>3.291237</td>\n",
       "      <td>3.651764</td>\n",
       "      <td>0.2</td>\n",
       "      <td>29.780754</td>\n",
       "      <td>2.978075</td>\n",
       "    </tr>\n",
       "    <tr>\n",
       "      <th>2017-02-28</th>\n",
       "      <td>2.750960</td>\n",
       "      <td>3.270946</td>\n",
       "      <td>3.649059</td>\n",
       "      <td>0.6</td>\n",
       "      <td>15.657654</td>\n",
       "      <td>7.828827</td>\n",
       "    </tr>\n",
       "    <tr>\n",
       "      <th>2017-03-31</th>\n",
       "      <td>1.252203</td>\n",
       "      <td>2.465675</td>\n",
       "      <td>2.888488</td>\n",
       "      <td>0.6</td>\n",
       "      <td>3.498041</td>\n",
       "      <td>1.749020</td>\n",
       "    </tr>\n",
       "    <tr>\n",
       "      <th>2017-04-30</th>\n",
       "      <td>1.714476</td>\n",
       "      <td>1.905880</td>\n",
       "      <td>2.598558</td>\n",
       "      <td>0.6</td>\n",
       "      <td>5.553767</td>\n",
       "      <td>2.776884</td>\n",
       "    </tr>\n",
       "    <tr>\n",
       "      <th>2017-05-31</th>\n",
       "      <td>0.431298</td>\n",
       "      <td>1.132659</td>\n",
       "      <td>2.201803</td>\n",
       "      <td>0.6</td>\n",
       "      <td>1.539255</td>\n",
       "      <td>0.769627</td>\n",
       "    </tr>\n",
       "    <tr>\n",
       "      <th>2017-06-30</th>\n",
       "      <td>2.065741</td>\n",
       "      <td>1.403839</td>\n",
       "      <td>1.934757</td>\n",
       "      <td>0.6</td>\n",
       "      <td>7.891141</td>\n",
       "      <td>3.945571</td>\n",
       "    </tr>\n",
       "    <tr>\n",
       "      <th>2017-07-31</th>\n",
       "      <td>1.724539</td>\n",
       "      <td>1.407193</td>\n",
       "      <td>1.656536</td>\n",
       "      <td>0.6</td>\n",
       "      <td>5.609935</td>\n",
       "      <td>2.804967</td>\n",
       "    </tr>\n",
       "    <tr>\n",
       "      <th>2017-08-31</th>\n",
       "      <td>0.988631</td>\n",
       "      <td>1.592970</td>\n",
       "      <td>1.362815</td>\n",
       "      <td>0.6</td>\n",
       "      <td>2.687552</td>\n",
       "      <td>1.343776</td>\n",
       "    </tr>\n",
       "  </tbody>\n",
       "</table>\n",
       "</div>"
      ],
      "text/plain": [
       "            log number of customers      MA_3      MA_6  price  \\\n",
       "2015-09-30                 6.534853       NaN       NaN    0.2   \n",
       "2015-10-31                 5.171559       NaN       NaN    0.2   \n",
       "2015-11-30                 5.104127  5.603513       NaN    0.2   \n",
       "2015-12-31                 3.451181  4.575622       NaN    0.2   \n",
       "2016-01-31                 1.725287  3.426865       NaN    0.2   \n",
       "2016-02-29                 1.662627  2.279698  3.941606    0.2   \n",
       "2016-03-31                 3.142306  2.176740  3.376181    0.2   \n",
       "2016-04-30                 2.894452  2.566462  2.996663    0.2   \n",
       "2016-05-31                 1.782804  2.606521  2.443110    0.2   \n",
       "2016-06-30                 1.356369  2.011208  2.093974    0.2   \n",
       "2016-07-31                 1.669538  1.602904  2.084683    0.2   \n",
       "2016-08-31                 2.767191  1.931033  2.268777    0.2   \n",
       "2016-09-30                 5.815627  3.417452  2.714330    0.2   \n",
       "2016-10-31                 3.454056  4.012291  2.807597    0.2   \n",
       "2016-11-30                 2.811831  4.027171  2.979102    0.2   \n",
       "2016-12-31                 3.668017  3.311301  3.364377    0.2   \n",
       "2017-01-31                 3.393862  3.291237  3.651764    0.2   \n",
       "2017-02-28                 2.750960  3.270946  3.649059    0.6   \n",
       "2017-03-31                 1.252203  2.465675  2.888488    0.6   \n",
       "2017-04-30                 1.714476  1.905880  2.598558    0.6   \n",
       "2017-05-31                 0.431298  1.132659  2.201803    0.6   \n",
       "2017-06-30                 2.065741  1.403839  1.934757    0.6   \n",
       "2017-07-31                 1.724539  1.407193  1.656536    0.6   \n",
       "2017-08-31                 0.988631  1.592970  1.362815    0.6   \n",
       "\n",
       "            number of customers    profits  \n",
       "2015-09-30           688.732584  68.873258  \n",
       "2015-10-31           176.189223  17.618922  \n",
       "2015-11-30           164.700190  16.470019  \n",
       "2015-12-31            31.537621   3.153762  \n",
       "2016-01-31             5.614131   0.561413  \n",
       "2016-02-29             5.273145   0.527314  \n",
       "2016-03-31            23.157215   2.315722  \n",
       "2016-04-30            18.073597   1.807360  \n",
       "2016-05-31             5.946507   0.594651  \n",
       "2016-06-30             3.882070   0.388207  \n",
       "2016-07-31             5.309716   0.530972  \n",
       "2016-08-31            15.913877   1.591388  \n",
       "2016-09-30           335.501569  33.550157  \n",
       "2016-10-31            31.628412   3.162841  \n",
       "2016-11-30            16.640365   1.664037  \n",
       "2016-12-31            39.174138   3.917414  \n",
       "2017-01-31            29.780754   2.978075  \n",
       "2017-02-28            15.657654   7.828827  \n",
       "2017-03-31             3.498041   1.749020  \n",
       "2017-04-30             5.553767   2.776884  \n",
       "2017-05-31             1.539255   0.769627  \n",
       "2017-06-30             7.891141   3.945571  \n",
       "2017-07-31             5.609935   2.804967  \n",
       "2017-08-31             2.687552   1.343776  "
      ]
     },
     "execution_count": 25,
     "metadata": {},
     "output_type": "execute_result"
    }
   ],
   "source": [
    "df_customers\n"
   ]
  },
  {
   "cell_type": "markdown",
   "metadata": {},
   "source": [
    "assume that your costs equal 0.1; calculate profits\n"
   ]
  },
  {
   "cell_type": "code",
   "execution_count": 24,
   "metadata": {
    "collapsed": true
   },
   "outputs": [],
   "source": [
    "costs = 0.1\n",
    "df_customers['profits'] = (df_customers['price']-costs)*df_customers['number of customers']"
   ]
  },
  {
   "cell_type": "code",
   "execution_count": 31,
   "metadata": {
    "collapsed": false
   },
   "outputs": [
    {
     "data": {
      "image/png": "[encoded data removed]",
      "text/plain": [
       "<matplotlib.figure.Figure at 0x1124b3400>"
      ]
     },
     "metadata": {},
     "output_type": "display_data"
    }
   ],
   "source": [
    "plt.scatter(df_customers['log number of customers'],df_customers['profits'])\n",
    "plt.show()"
   ]
  },
  {
   "cell_type": "code",
   "execution_count": null,
   "metadata": {
    "collapsed": true
   },
   "outputs": [],
   "source": []
  }
 ],
 "metadata": {
  "kernelspec": {
   "display_name": "Python [default]",
   "language": "python",
   "name": "python3"
  },
  "language_info": {
   "codemirror_mode": {
    "name": "ipython",
    "version": 3
   },
   "file_extension": ".py",
   "mimetype": "text/x-python",
   "name": "python",
   "nbconvert_exporter": "python",
   "pygments_lexer": "ipython3",
   "version": "3.5.2"
  }
 },
 "nbformat": 4,
 "nbformat_minor": 2
}
